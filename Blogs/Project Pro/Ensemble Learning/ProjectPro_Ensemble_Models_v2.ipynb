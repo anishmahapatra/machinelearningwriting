{
  "nbformat": 4,
  "nbformat_minor": 0,
  "metadata": {
    "colab": {
      "name": "ProjectPro - Ensemble Models v2.ipynb",
      "provenance": [],
      "collapsed_sections": [
        "tngSKngpm8BA",
        "-8CgAEVZNaUt",
        "WCCFGvVhnJSW",
        "v-i_S8qwnJP5",
        "NLSvPBrnnJNN",
        "SOIwf8YmnJKO",
        "OVITKISInJGN"
      ],
      "toc_visible": true
    },
    "kernelspec": {
      "name": "python3",
      "display_name": "Python 3"
    },
    "language_info": {
      "name": "python"
    }
  },
  "cells": [
    {
      "cell_type": "markdown",
      "metadata": {
        "id": "NL8vHE6ckj7L"
      },
      "source": [
        "![image.png](data:image/png;base64,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)"
      ]
    },
    {
      "cell_type": "markdown",
      "metadata": {
        "id": "wyIiayzAkE3P"
      },
      "source": [
        "# ProjectPro - Ensemble Models\n",
        "Author: Anish Mahapatra\n",
        "\n",
        "<b>Aim:</b> <br/>The purpose of this notebook is to understand Ensemble Models end to end.\n"
      ]
    },
    {
      "cell_type": "markdown",
      "metadata": {
        "id": "40fQCHgMkuex"
      },
      "source": [
        "<a name=\"0\"></a>\n",
        "## Table of Contents\n",
        "\n",
        "1 [What is Ensemble Learning](#1) <br/>\n",
        "2 [Types of Ensemble Learning](#2) <br/>\n",
        "&nbsp;&nbsp;&nbsp;&nbsp;&nbsp;&nbsp;2.1 [Max Voting](#2.1) <br/>\n",
        "&nbsp;&nbsp;&nbsp;&nbsp;&nbsp;&nbsp;2.2 [Averaging](#2.2) <br/>\n",
        "&nbsp;&nbsp;&nbsp;&nbsp;&nbsp;&nbsp;2.3 [Weighted Average](#2.3) <br/>\n",
        "&nbsp;&nbsp;&nbsp;&nbsp;&nbsp;&nbsp;2.4 [Bagging](#2.4) <br/>\n",
        "&nbsp;&nbsp;&nbsp;&nbsp;&nbsp;&nbsp;2.5 [Boosting](#2.5) <br/>\n",
        "&nbsp;&nbsp;&nbsp;&nbsp;&nbsp;&nbsp;2.6 [Stacking](#2.6) <br/>\n",
        "&nbsp;&nbsp;&nbsp;&nbsp;&nbsp;&nbsp;2.7 [Blending](#2.7) <br/>"
      ]
    },
    {
      "cell_type": "markdown",
      "metadata": {
        "id": "k-fCrp7Rl7Q3"
      },
      "source": [
        "<a name=\"1\"></a>\n",
        "## 1 Types of Ensemble Models\n",
        "Back to [Table of Contents](#0)\n",
        "\n",
        "---\n",
        "\n",
        "Head to https://www.dezyre.com/\n"
      ]
    },
    {
      "cell_type": "markdown",
      "metadata": {
        "id": "wPf1FmjHmAFs"
      },
      "source": [
        "<a name=\"2\"></a>\n",
        "## 2 What is Ensemble Modelling?\n",
        "Back to [Table of Contents](#0)\n",
        "\n",
        "---\n"
      ]
    },
    {
      "cell_type": "markdown",
      "metadata": {
        "id": "tngSKngpm8BA"
      },
      "source": [
        "<a name=\"2.0\"></a>\n",
        "### 2.0 Preprocessing & Modelling\n",
        "Back to [Table of Contents](#0)"
      ]
    },
    {
      "cell_type": "code",
      "metadata": {
        "id": "Gjp5sttv9soV"
      },
      "source": [
        "import numpy as np\n",
        "import pandas as pd\n",
        "\n",
        "import warnings\n",
        "warnings.filterwarnings('ignore')"
      ],
      "execution_count": null,
      "outputs": []
    },
    {
      "cell_type": "code",
      "metadata": {
        "id": "3RBFe9Xe9sk6"
      },
      "source": [
        "# Reading the file onto Google Colab from GitHub using pandas library\n",
        "titanicTrainDf = pd.read_csv(\"https://raw.githubusercontent.com/anishmahapatra/Ensemble-Learning/main/titanic-dataset-train.csv\")\n",
        "titanicTestDf = pd.read_csv(\"https://raw.githubusercontent.com/anishmahapatra/Ensemble-Learning/main/titanic-dataset-test.csv\")"
      ],
      "execution_count": null,
      "outputs": []
    },
    {
      "cell_type": "code",
      "metadata": {
        "id": "uPHSVE4r9sjX"
      },
      "source": [
        "train = titanicTrainDf.copy(deep = True)\n",
        "predict = titanicTestDf.copy(deep = True)"
      ],
      "execution_count": null,
      "outputs": []
    },
    {
      "cell_type": "code",
      "metadata": {
        "colab": {
          "base_uri": "https://localhost:8080/",
          "height": 414
        },
        "id": "4SGTcS7t9sgd",
        "outputId": "93d0d126-aedd-4463-c8ac-d2265bc1949d"
      },
      "source": [
        "# we will have to apply our feature engineering to both sets\n",
        "both_datasets = [train, predict]\n",
        "\n",
        "# getting an idea of what we're dealing with\n",
        "train.head(10)"
      ],
      "execution_count": null,
      "outputs": [
        {
          "output_type": "execute_result",
          "data": {
            "text/html": [
              "<div>\n",
              "<style scoped>\n",
              "    .dataframe tbody tr th:only-of-type {\n",
              "        vertical-align: middle;\n",
              "    }\n",
              "\n",
              "    .dataframe tbody tr th {\n",
              "        vertical-align: top;\n",
              "    }\n",
              "\n",
              "    .dataframe thead th {\n",
              "        text-align: right;\n",
              "    }\n",
              "</style>\n",
              "<table border=\"1\" class=\"dataframe\">\n",
              "  <thead>\n",
              "    <tr style=\"text-align: right;\">\n",
              "      <th></th>\n",
              "      <th>PassengerId</th>\n",
              "      <th>Survived</th>\n",
              "      <th>Pclass</th>\n",
              "      <th>Name</th>\n",
              "      <th>Sex</th>\n",
              "      <th>Age</th>\n",
              "      <th>SibSp</th>\n",
              "      <th>Parch</th>\n",
              "      <th>Ticket</th>\n",
              "      <th>Fare</th>\n",
              "      <th>Cabin</th>\n",
              "      <th>Embarked</th>\n",
              "    </tr>\n",
              "  </thead>\n",
              "  <tbody>\n",
              "    <tr>\n",
              "      <th>0</th>\n",
              "      <td>1</td>\n",
              "      <td>0</td>\n",
              "      <td>3</td>\n",
              "      <td>Braund, Mr. Owen Harris</td>\n",
              "      <td>male</td>\n",
              "      <td>22.0</td>\n",
              "      <td>1</td>\n",
              "      <td>0</td>\n",
              "      <td>A/5 21171</td>\n",
              "      <td>7.2500</td>\n",
              "      <td>NaN</td>\n",
              "      <td>S</td>\n",
              "    </tr>\n",
              "    <tr>\n",
              "      <th>1</th>\n",
              "      <td>2</td>\n",
              "      <td>1</td>\n",
              "      <td>1</td>\n",
              "      <td>Cumings, Mrs. John Bradley (Florence Briggs Th...</td>\n",
              "      <td>female</td>\n",
              "      <td>38.0</td>\n",
              "      <td>1</td>\n",
              "      <td>0</td>\n",
              "      <td>PC 17599</td>\n",
              "      <td>71.2833</td>\n",
              "      <td>C85</td>\n",
              "      <td>C</td>\n",
              "    </tr>\n",
              "    <tr>\n",
              "      <th>2</th>\n",
              "      <td>3</td>\n",
              "      <td>1</td>\n",
              "      <td>3</td>\n",
              "      <td>Heikkinen, Miss. Laina</td>\n",
              "      <td>female</td>\n",
              "      <td>26.0</td>\n",
              "      <td>0</td>\n",
              "      <td>0</td>\n",
              "      <td>STON/O2. 3101282</td>\n",
              "      <td>7.9250</td>\n",
              "      <td>NaN</td>\n",
              "      <td>S</td>\n",
              "    </tr>\n",
              "    <tr>\n",
              "      <th>3</th>\n",
              "      <td>4</td>\n",
              "      <td>1</td>\n",
              "      <td>1</td>\n",
              "      <td>Futrelle, Mrs. Jacques Heath (Lily May Peel)</td>\n",
              "      <td>female</td>\n",
              "      <td>35.0</td>\n",
              "      <td>1</td>\n",
              "      <td>0</td>\n",
              "      <td>113803</td>\n",
              "      <td>53.1000</td>\n",
              "      <td>C123</td>\n",
              "      <td>S</td>\n",
              "    </tr>\n",
              "    <tr>\n",
              "      <th>4</th>\n",
              "      <td>5</td>\n",
              "      <td>0</td>\n",
              "      <td>3</td>\n",
              "      <td>Allen, Mr. William Henry</td>\n",
              "      <td>male</td>\n",
              "      <td>35.0</td>\n",
              "      <td>0</td>\n",
              "      <td>0</td>\n",
              "      <td>373450</td>\n",
              "      <td>8.0500</td>\n",
              "      <td>NaN</td>\n",
              "      <td>S</td>\n",
              "    </tr>\n",
              "    <tr>\n",
              "      <th>5</th>\n",
              "      <td>6</td>\n",
              "      <td>0</td>\n",
              "      <td>3</td>\n",
              "      <td>Moran, Mr. James</td>\n",
              "      <td>male</td>\n",
              "      <td>NaN</td>\n",
              "      <td>0</td>\n",
              "      <td>0</td>\n",
              "      <td>330877</td>\n",
              "      <td>8.4583</td>\n",
              "      <td>NaN</td>\n",
              "      <td>Q</td>\n",
              "    </tr>\n",
              "    <tr>\n",
              "      <th>6</th>\n",
              "      <td>7</td>\n",
              "      <td>0</td>\n",
              "      <td>1</td>\n",
              "      <td>McCarthy, Mr. Timothy J</td>\n",
              "      <td>male</td>\n",
              "      <td>54.0</td>\n",
              "      <td>0</td>\n",
              "      <td>0</td>\n",
              "      <td>17463</td>\n",
              "      <td>51.8625</td>\n",
              "      <td>E46</td>\n",
              "      <td>S</td>\n",
              "    </tr>\n",
              "    <tr>\n",
              "      <th>7</th>\n",
              "      <td>8</td>\n",
              "      <td>0</td>\n",
              "      <td>3</td>\n",
              "      <td>Palsson, Master. Gosta Leonard</td>\n",
              "      <td>male</td>\n",
              "      <td>2.0</td>\n",
              "      <td>3</td>\n",
              "      <td>1</td>\n",
              "      <td>349909</td>\n",
              "      <td>21.0750</td>\n",
              "      <td>NaN</td>\n",
              "      <td>S</td>\n",
              "    </tr>\n",
              "    <tr>\n",
              "      <th>8</th>\n",
              "      <td>9</td>\n",
              "      <td>1</td>\n",
              "      <td>3</td>\n",
              "      <td>Johnson, Mrs. Oscar W (Elisabeth Vilhelmina Berg)</td>\n",
              "      <td>female</td>\n",
              "      <td>27.0</td>\n",
              "      <td>0</td>\n",
              "      <td>2</td>\n",
              "      <td>347742</td>\n",
              "      <td>11.1333</td>\n",
              "      <td>NaN</td>\n",
              "      <td>S</td>\n",
              "    </tr>\n",
              "    <tr>\n",
              "      <th>9</th>\n",
              "      <td>10</td>\n",
              "      <td>1</td>\n",
              "      <td>2</td>\n",
              "      <td>Nasser, Mrs. Nicholas (Adele Achem)</td>\n",
              "      <td>female</td>\n",
              "      <td>14.0</td>\n",
              "      <td>1</td>\n",
              "      <td>0</td>\n",
              "      <td>237736</td>\n",
              "      <td>30.0708</td>\n",
              "      <td>NaN</td>\n",
              "      <td>C</td>\n",
              "    </tr>\n",
              "  </tbody>\n",
              "</table>\n",
              "</div>"
            ],
            "text/plain": [
              "   PassengerId  Survived  Pclass  ...     Fare Cabin  Embarked\n",
              "0            1         0       3  ...   7.2500   NaN         S\n",
              "1            2         1       1  ...  71.2833   C85         C\n",
              "2            3         1       3  ...   7.9250   NaN         S\n",
              "3            4         1       1  ...  53.1000  C123         S\n",
              "4            5         0       3  ...   8.0500   NaN         S\n",
              "5            6         0       3  ...   8.4583   NaN         Q\n",
              "6            7         0       1  ...  51.8625   E46         S\n",
              "7            8         0       3  ...  21.0750   NaN         S\n",
              "8            9         1       3  ...  11.1333   NaN         S\n",
              "9           10         1       2  ...  30.0708   NaN         C\n",
              "\n",
              "[10 rows x 12 columns]"
            ]
          },
          "metadata": {
            "tags": []
          },
          "execution_count": 4
        }
      ]
    },
    {
      "cell_type": "code",
      "metadata": {
        "colab": {
          "base_uri": "https://localhost:8080/"
        },
        "id": "jyeywjFiHVg0",
        "outputId": "7bfa446d-d547-456c-f64b-3f5f4b3d89a4"
      },
      "source": [
        "train.append(predict, sort=False).info()"
      ],
      "execution_count": null,
      "outputs": [
        {
          "output_type": "stream",
          "text": [
            "<class 'pandas.core.frame.DataFrame'>\n",
            "Int64Index: 1309 entries, 0 to 417\n",
            "Data columns (total 12 columns):\n",
            " #   Column       Non-Null Count  Dtype  \n",
            "---  ------       --------------  -----  \n",
            " 0   PassengerId  1309 non-null   int64  \n",
            " 1   Survived     891 non-null    float64\n",
            " 2   Pclass       1309 non-null   int64  \n",
            " 3   Name         1309 non-null   object \n",
            " 4   Sex          1309 non-null   object \n",
            " 5   Age          1046 non-null   float64\n",
            " 6   SibSp        1309 non-null   int64  \n",
            " 7   Parch        1309 non-null   int64  \n",
            " 8   Ticket       1309 non-null   object \n",
            " 9   Fare         1308 non-null   float64\n",
            " 10  Cabin        295 non-null    object \n",
            " 11  Embarked     1307 non-null   object \n",
            "dtypes: float64(3), int64(4), object(5)\n",
            "memory usage: 132.9+ KB\n"
          ],
          "name": "stdout"
        }
      ]
    },
    {
      "cell_type": "markdown",
      "metadata": {
        "id": "q8hbUrZxHbPm"
      },
      "source": [
        "Let's handle the null values in the Age, Cabin, Embarked, and Fare columns.\n",
        "\n"
      ]
    },
    {
      "cell_type": "code",
      "metadata": {
        "id": "nSBlQh-_HVeB"
      },
      "source": [
        "\"\"\" values taken from the training set, which needn't be changed in the loop \"\"\"\n",
        "\n",
        "# ports where people boarded\n",
        "embark = train[['Embarked', 'PassengerId']] \\\n",
        "    .groupby(['Embarked']) \\\n",
        "    .count() \\\n",
        "    .rename(columns={'PassengerId': 'PassengerCount'})\n",
        "embark = embark.PassengerCount.to_dict() \n",
        "\n",
        "# calculating the median fare per passenger class\n",
        "fare_medians = train[['Pclass', 'Fare']] \\\n",
        "    .groupby('Pclass') \\\n",
        "    .median() \\\n",
        "    .to_dict()['Fare']"
      ],
      "execution_count": null,
      "outputs": []
    },
    {
      "cell_type": "code",
      "metadata": {
        "id": "MtXo48sYHVat"
      },
      "source": [
        "# looping through both train and predict\n",
        "for df in both_datasets:\n",
        "    \n",
        "    \"\"\" age \"\"\"\n",
        "    # create a random distribution of age based on the dataframe's stats\n",
        "    mu, sigma, n = train.Age.mean(), train.Age.std(), df.Age.isnull().sum()\n",
        "    normal_distr = np.random.normal(mu, sigma, n)\n",
        "    \n",
        "    # impute it on the missing values\n",
        "    df.Age.loc[np.isnan(df.Age)] = normal_distr.astype(int)\n",
        "    \n",
        "    \"\"\" cabin \"\"\"\n",
        "    # convert Cabin to boolean (passenger has cabin y/n)\n",
        "    df.Cabin = df.Cabin.apply(lambda x: 1 if not pd.isnull(x) else 0)\n",
        "    \n",
        "    \"\"\" embarked \"\"\"\n",
        "    # only two missing values, so let's just take the most common port\n",
        "    embark_imputes = max(embark, key=embark.get)\n",
        "    \n",
        "    # impute\n",
        "    df.Embarked = df.Embarked.fillna(embark_imputes)\n",
        "    \n",
        "    \"\"\" fare \"\"\"    \n",
        "    # impute by mapping Pclass to the previously defined dictionary\n",
        "    df.Fare = df.Fare.fillna(df.Pclass.map(fare_medians))"
      ],
      "execution_count": null,
      "outputs": []
    },
    {
      "cell_type": "code",
      "metadata": {
        "colab": {
          "base_uri": "https://localhost:8080/"
        },
        "id": "FlB7dbPqHVXx",
        "outputId": "f1b5e616-8f01-45b3-86a3-98d2c5d3601f"
      },
      "source": [
        "train.append(predict, sort=False).info()"
      ],
      "execution_count": null,
      "outputs": [
        {
          "output_type": "stream",
          "text": [
            "<class 'pandas.core.frame.DataFrame'>\n",
            "Int64Index: 1309 entries, 0 to 417\n",
            "Data columns (total 12 columns):\n",
            " #   Column       Non-Null Count  Dtype  \n",
            "---  ------       --------------  -----  \n",
            " 0   PassengerId  1309 non-null   int64  \n",
            " 1   Survived     891 non-null    float64\n",
            " 2   Pclass       1309 non-null   int64  \n",
            " 3   Name         1309 non-null   object \n",
            " 4   Sex          1309 non-null   object \n",
            " 5   Age          1309 non-null   float64\n",
            " 6   SibSp        1309 non-null   int64  \n",
            " 7   Parch        1309 non-null   int64  \n",
            " 8   Ticket       1309 non-null   object \n",
            " 9   Fare         1309 non-null   float64\n",
            " 10  Cabin        1309 non-null   int64  \n",
            " 11  Embarked     1309 non-null   object \n",
            "dtypes: float64(3), int64(5), object(4)\n",
            "memory usage: 132.9+ KB\n"
          ],
          "name": "stdout"
        }
      ]
    },
    {
      "cell_type": "markdown",
      "metadata": {
        "id": "Cg1SLJ9YHmin"
      },
      "source": [
        "The only NaN values remaining are our missing predictions. The rest looks good!"
      ]
    },
    {
      "cell_type": "markdown",
      "metadata": {
        "id": "MZWumX43HsQ8"
      },
      "source": [
        "Feature engineering & Cleansing"
      ]
    },
    {
      "cell_type": "code",
      "metadata": {
        "id": "fe5N5Z_HHr2s"
      },
      "source": [
        "import re\n",
        "\n",
        "def get_title(name):\n",
        "    title = re.search(' ([A-Za-z]+)\\.', name)\n",
        "    if title: return title.group(1)\n",
        "\n",
        "def get_int_age_group(age):\n",
        "    age_group = 'elderly'\n",
        "    if age <= 50: age_group = 'old_adult'\n",
        "    if age <= 40: age_group = 'mid_adult'\n",
        "    if age <= 30: age_group = 'young_adult'\n",
        "    if age <= 18: age_group = 'teenager'\n",
        "    if age <= 9 : age_group = 'child'\n",
        "        \n",
        "    return age_group"
      ],
      "execution_count": null,
      "outputs": []
    },
    {
      "cell_type": "code",
      "metadata": {
        "colab": {
          "base_uri": "https://localhost:8080/",
          "height": 414
        },
        "id": "fn8BswmmHVUF",
        "outputId": "4295f07f-3774-4ecb-d3cc-d79986b3e5c1"
      },
      "source": [
        "train.head(10)"
      ],
      "execution_count": null,
      "outputs": [
        {
          "output_type": "execute_result",
          "data": {
            "text/html": [
              "<div>\n",
              "<style scoped>\n",
              "    .dataframe tbody tr th:only-of-type {\n",
              "        vertical-align: middle;\n",
              "    }\n",
              "\n",
              "    .dataframe tbody tr th {\n",
              "        vertical-align: top;\n",
              "    }\n",
              "\n",
              "    .dataframe thead th {\n",
              "        text-align: right;\n",
              "    }\n",
              "</style>\n",
              "<table border=\"1\" class=\"dataframe\">\n",
              "  <thead>\n",
              "    <tr style=\"text-align: right;\">\n",
              "      <th></th>\n",
              "      <th>PassengerId</th>\n",
              "      <th>Survived</th>\n",
              "      <th>Pclass</th>\n",
              "      <th>Name</th>\n",
              "      <th>Sex</th>\n",
              "      <th>Age</th>\n",
              "      <th>SibSp</th>\n",
              "      <th>Parch</th>\n",
              "      <th>Ticket</th>\n",
              "      <th>Fare</th>\n",
              "      <th>Cabin</th>\n",
              "      <th>Embarked</th>\n",
              "    </tr>\n",
              "  </thead>\n",
              "  <tbody>\n",
              "    <tr>\n",
              "      <th>0</th>\n",
              "      <td>1</td>\n",
              "      <td>0</td>\n",
              "      <td>3</td>\n",
              "      <td>Braund, Mr. Owen Harris</td>\n",
              "      <td>male</td>\n",
              "      <td>22.0</td>\n",
              "      <td>1</td>\n",
              "      <td>0</td>\n",
              "      <td>A/5 21171</td>\n",
              "      <td>7.2500</td>\n",
              "      <td>0</td>\n",
              "      <td>S</td>\n",
              "    </tr>\n",
              "    <tr>\n",
              "      <th>1</th>\n",
              "      <td>2</td>\n",
              "      <td>1</td>\n",
              "      <td>1</td>\n",
              "      <td>Cumings, Mrs. John Bradley (Florence Briggs Th...</td>\n",
              "      <td>female</td>\n",
              "      <td>38.0</td>\n",
              "      <td>1</td>\n",
              "      <td>0</td>\n",
              "      <td>PC 17599</td>\n",
              "      <td>71.2833</td>\n",
              "      <td>1</td>\n",
              "      <td>C</td>\n",
              "    </tr>\n",
              "    <tr>\n",
              "      <th>2</th>\n",
              "      <td>3</td>\n",
              "      <td>1</td>\n",
              "      <td>3</td>\n",
              "      <td>Heikkinen, Miss. Laina</td>\n",
              "      <td>female</td>\n",
              "      <td>26.0</td>\n",
              "      <td>0</td>\n",
              "      <td>0</td>\n",
              "      <td>STON/O2. 3101282</td>\n",
              "      <td>7.9250</td>\n",
              "      <td>0</td>\n",
              "      <td>S</td>\n",
              "    </tr>\n",
              "    <tr>\n",
              "      <th>3</th>\n",
              "      <td>4</td>\n",
              "      <td>1</td>\n",
              "      <td>1</td>\n",
              "      <td>Futrelle, Mrs. Jacques Heath (Lily May Peel)</td>\n",
              "      <td>female</td>\n",
              "      <td>35.0</td>\n",
              "      <td>1</td>\n",
              "      <td>0</td>\n",
              "      <td>113803</td>\n",
              "      <td>53.1000</td>\n",
              "      <td>1</td>\n",
              "      <td>S</td>\n",
              "    </tr>\n",
              "    <tr>\n",
              "      <th>4</th>\n",
              "      <td>5</td>\n",
              "      <td>0</td>\n",
              "      <td>3</td>\n",
              "      <td>Allen, Mr. William Henry</td>\n",
              "      <td>male</td>\n",
              "      <td>35.0</td>\n",
              "      <td>0</td>\n",
              "      <td>0</td>\n",
              "      <td>373450</td>\n",
              "      <td>8.0500</td>\n",
              "      <td>0</td>\n",
              "      <td>S</td>\n",
              "    </tr>\n",
              "    <tr>\n",
              "      <th>5</th>\n",
              "      <td>6</td>\n",
              "      <td>0</td>\n",
              "      <td>3</td>\n",
              "      <td>Moran, Mr. James</td>\n",
              "      <td>male</td>\n",
              "      <td>47.0</td>\n",
              "      <td>0</td>\n",
              "      <td>0</td>\n",
              "      <td>330877</td>\n",
              "      <td>8.4583</td>\n",
              "      <td>0</td>\n",
              "      <td>Q</td>\n",
              "    </tr>\n",
              "    <tr>\n",
              "      <th>6</th>\n",
              "      <td>7</td>\n",
              "      <td>0</td>\n",
              "      <td>1</td>\n",
              "      <td>McCarthy, Mr. Timothy J</td>\n",
              "      <td>male</td>\n",
              "      <td>54.0</td>\n",
              "      <td>0</td>\n",
              "      <td>0</td>\n",
              "      <td>17463</td>\n",
              "      <td>51.8625</td>\n",
              "      <td>1</td>\n",
              "      <td>S</td>\n",
              "    </tr>\n",
              "    <tr>\n",
              "      <th>7</th>\n",
              "      <td>8</td>\n",
              "      <td>0</td>\n",
              "      <td>3</td>\n",
              "      <td>Palsson, Master. Gosta Leonard</td>\n",
              "      <td>male</td>\n",
              "      <td>2.0</td>\n",
              "      <td>3</td>\n",
              "      <td>1</td>\n",
              "      <td>349909</td>\n",
              "      <td>21.0750</td>\n",
              "      <td>0</td>\n",
              "      <td>S</td>\n",
              "    </tr>\n",
              "    <tr>\n",
              "      <th>8</th>\n",
              "      <td>9</td>\n",
              "      <td>1</td>\n",
              "      <td>3</td>\n",
              "      <td>Johnson, Mrs. Oscar W (Elisabeth Vilhelmina Berg)</td>\n",
              "      <td>female</td>\n",
              "      <td>27.0</td>\n",
              "      <td>0</td>\n",
              "      <td>2</td>\n",
              "      <td>347742</td>\n",
              "      <td>11.1333</td>\n",
              "      <td>0</td>\n",
              "      <td>S</td>\n",
              "    </tr>\n",
              "    <tr>\n",
              "      <th>9</th>\n",
              "      <td>10</td>\n",
              "      <td>1</td>\n",
              "      <td>2</td>\n",
              "      <td>Nasser, Mrs. Nicholas (Adele Achem)</td>\n",
              "      <td>female</td>\n",
              "      <td>14.0</td>\n",
              "      <td>1</td>\n",
              "      <td>0</td>\n",
              "      <td>237736</td>\n",
              "      <td>30.0708</td>\n",
              "      <td>0</td>\n",
              "      <td>C</td>\n",
              "    </tr>\n",
              "  </tbody>\n",
              "</table>\n",
              "</div>"
            ],
            "text/plain": [
              "   PassengerId  Survived  Pclass  ...     Fare Cabin  Embarked\n",
              "0            1         0       3  ...   7.2500     0         S\n",
              "1            2         1       1  ...  71.2833     1         C\n",
              "2            3         1       3  ...   7.9250     0         S\n",
              "3            4         1       1  ...  53.1000     1         S\n",
              "4            5         0       3  ...   8.0500     0         S\n",
              "5            6         0       3  ...   8.4583     0         Q\n",
              "6            7         0       1  ...  51.8625     1         S\n",
              "7            8         0       3  ...  21.0750     0         S\n",
              "8            9         1       3  ...  11.1333     0         S\n",
              "9           10         1       2  ...  30.0708     0         C\n",
              "\n",
              "[10 rows x 12 columns]"
            ]
          },
          "metadata": {
            "tags": []
          },
          "execution_count": 10
        }
      ]
    },
    {
      "cell_type": "code",
      "metadata": {
        "id": "hhc0ETLbHVQ2"
      },
      "source": [
        "# looping through both train and predict\n",
        "for df in both_datasets:\n",
        "    \n",
        "    \"\"\" name -> title \"\"\"\n",
        "    # extracting the title with regular expressions where there is one\n",
        "    df['Title'] = df.Name.apply(get_title)\n",
        "    \n",
        "    # processing the extract titled\n",
        "    df.Title = df.Title.replace({\n",
        "        'Mlle': 'Miss',\n",
        "        'Ms': 'Miss',\n",
        "        'Mme': 'Mrs'\n",
        "    })\n",
        "    \n",
        "    \"\"\" sex \"\"\"\n",
        "    df.Sex = df.Sex.map({\n",
        "        'male'  : 0,\n",
        "        'female': 1\n",
        "    })\n",
        "    \n",
        "    \"\"\" age \"\"\"\n",
        "    # convert ages to categories\n",
        "    df.Age = df.Age.apply(get_int_age_group)\n",
        "    \n",
        "    \"\"\" traveled alone \"\"\"\n",
        "    df['TraveledAlone'] = df.apply(lambda row: 1 if row['SibSp'] + row['Parch'] == 0 else 0, axis=1)"
      ],
      "execution_count": null,
      "outputs": []
    },
    {
      "cell_type": "markdown",
      "metadata": {
        "id": "52awP4ftIDOP"
      },
      "source": [
        "The fare is going to be based on the training set quartiles, so we need to do it outside of the loop."
      ]
    },
    {
      "cell_type": "code",
      "metadata": {
        "id": "gMJYfvBLHVOD"
      },
      "source": [
        "# we want categories\n",
        "labels = ['cheap', 'economy', 'business', 'first']\n",
        "\n",
        "\"\"\" fare \"\"\"\n",
        "# quartiles based on the training set\n",
        "fare_categorical_series, bins = pd.qcut(train['Fare'], q=4, retbins=True, labels=labels)\n",
        "\n",
        "# putting the series in the training set\n",
        "train['FareCategorical'] = fare_categorical_series\n",
        "\n",
        "# cutting the predict set based on the bins derived from the training set\n",
        "predict['FareCategorical'] = pd.cut(predict.Fare, bins=bins, labels=labels, include_lowest=True)"
      ],
      "execution_count": null,
      "outputs": []
    },
    {
      "cell_type": "markdown",
      "metadata": {
        "id": "TbS2gtRaIIKu"
      },
      "source": [
        "One more pass for the Title."
      ]
    },
    {
      "cell_type": "code",
      "metadata": {
        "id": "-pWeS967HVLs"
      },
      "source": [
        " # any title that appears less than 4% of the time in the training set is treated as rare\n",
        "titles = train[['Title', 'PassengerId']] \\\n",
        "    .groupby(['Title'], as_index=False) \\\n",
        "    .count() \\\n",
        "    .rename(columns={'PassengerId': 'Count'})\n",
        "\n",
        "titles['Common'] = titles.Count / titles.Count.sum() > 0.04\n",
        "common_titles = list(titles.loc[titles.Common == True].Title.values)\n",
        "\n",
        "# looping over both train and predict datasets\n",
        "for df in both_datasets:\n",
        "    \n",
        "    \"\"\" title \"\"\"    \n",
        "    # map the common titles to a number\n",
        "    df.Title = df.apply(lambda row: 'Rare' if row['Title'] not in common_titles else row['Title'], axis=1)\n"
      ],
      "execution_count": null,
      "outputs": []
    },
    {
      "cell_type": "markdown",
      "metadata": {
        "id": "BJQAmJ0LIMdv"
      },
      "source": [
        "Dummifying"
      ]
    },
    {
      "cell_type": "code",
      "metadata": {
        "id": "tMhgrDhiHVIx"
      },
      "source": [
        "def dummify(df, column_to_dummify):\n",
        "\n",
        "    dummies = pd.get_dummies(df[column_to_dummify], prefix=column_to_dummify)\n",
        "    df = pd.concat([df, dummies], axis=1)\n",
        "    df.drop(column_to_dummify, axis=1, inplace=True)\n",
        "\n",
        "    return df"
      ],
      "execution_count": null,
      "outputs": []
    },
    {
      "cell_type": "code",
      "metadata": {
        "id": "H156G0noHVG1"
      },
      "source": [
        "cols_to_dummify = ['Pclass', 'Embarked', 'Age', 'FareCategorical', 'Title']\n",
        "\n",
        "for col in cols_to_dummify:\n",
        "    train = dummify(train, col)\n",
        "    predict = dummify(predict, col)"
      ],
      "execution_count": null,
      "outputs": []
    },
    {
      "cell_type": "code",
      "metadata": {
        "colab": {
          "base_uri": "https://localhost:8080/",
          "height": 484
        },
        "id": "j36998fVHVFD",
        "outputId": "3eb6584c-9d82-4a07-ff88-9f98fa1ddddd"
      },
      "source": [
        "train.head()"
      ],
      "execution_count": null,
      "outputs": [
        {
          "output_type": "execute_result",
          "data": {
            "text/html": [
              "<div>\n",
              "<style scoped>\n",
              "    .dataframe tbody tr th:only-of-type {\n",
              "        vertical-align: middle;\n",
              "    }\n",
              "\n",
              "    .dataframe tbody tr th {\n",
              "        vertical-align: top;\n",
              "    }\n",
              "\n",
              "    .dataframe thead th {\n",
              "        text-align: right;\n",
              "    }\n",
              "</style>\n",
              "<table border=\"1\" class=\"dataframe\">\n",
              "  <thead>\n",
              "    <tr style=\"text-align: right;\">\n",
              "      <th></th>\n",
              "      <th>PassengerId</th>\n",
              "      <th>Survived</th>\n",
              "      <th>Name</th>\n",
              "      <th>Sex</th>\n",
              "      <th>SibSp</th>\n",
              "      <th>Parch</th>\n",
              "      <th>Ticket</th>\n",
              "      <th>Fare</th>\n",
              "      <th>Cabin</th>\n",
              "      <th>TraveledAlone</th>\n",
              "      <th>Pclass_1</th>\n",
              "      <th>Pclass_2</th>\n",
              "      <th>Pclass_3</th>\n",
              "      <th>Embarked_C</th>\n",
              "      <th>Embarked_Q</th>\n",
              "      <th>Embarked_S</th>\n",
              "      <th>Age_child</th>\n",
              "      <th>Age_elderly</th>\n",
              "      <th>Age_mid_adult</th>\n",
              "      <th>Age_old_adult</th>\n",
              "      <th>Age_teenager</th>\n",
              "      <th>Age_young_adult</th>\n",
              "      <th>FareCategorical_cheap</th>\n",
              "      <th>FareCategorical_economy</th>\n",
              "      <th>FareCategorical_business</th>\n",
              "      <th>FareCategorical_first</th>\n",
              "      <th>Title_Master</th>\n",
              "      <th>Title_Miss</th>\n",
              "      <th>Title_Mr</th>\n",
              "      <th>Title_Mrs</th>\n",
              "      <th>Title_Rare</th>\n",
              "    </tr>\n",
              "  </thead>\n",
              "  <tbody>\n",
              "    <tr>\n",
              "      <th>0</th>\n",
              "      <td>1</td>\n",
              "      <td>0</td>\n",
              "      <td>Braund, Mr. Owen Harris</td>\n",
              "      <td>0</td>\n",
              "      <td>1</td>\n",
              "      <td>0</td>\n",
              "      <td>A/5 21171</td>\n",
              "      <td>7.2500</td>\n",
              "      <td>0</td>\n",
              "      <td>0</td>\n",
              "      <td>0</td>\n",
              "      <td>0</td>\n",
              "      <td>1</td>\n",
              "      <td>0</td>\n",
              "      <td>0</td>\n",
              "      <td>1</td>\n",
              "      <td>0</td>\n",
              "      <td>0</td>\n",
              "      <td>0</td>\n",
              "      <td>0</td>\n",
              "      <td>0</td>\n",
              "      <td>1</td>\n",
              "      <td>1</td>\n",
              "      <td>0</td>\n",
              "      <td>0</td>\n",
              "      <td>0</td>\n",
              "      <td>0</td>\n",
              "      <td>0</td>\n",
              "      <td>1</td>\n",
              "      <td>0</td>\n",
              "      <td>0</td>\n",
              "    </tr>\n",
              "    <tr>\n",
              "      <th>1</th>\n",
              "      <td>2</td>\n",
              "      <td>1</td>\n",
              "      <td>Cumings, Mrs. John Bradley (Florence Briggs Th...</td>\n",
              "      <td>1</td>\n",
              "      <td>1</td>\n",
              "      <td>0</td>\n",
              "      <td>PC 17599</td>\n",
              "      <td>71.2833</td>\n",
              "      <td>1</td>\n",
              "      <td>0</td>\n",
              "      <td>1</td>\n",
              "      <td>0</td>\n",
              "      <td>0</td>\n",
              "      <td>1</td>\n",
              "      <td>0</td>\n",
              "      <td>0</td>\n",
              "      <td>0</td>\n",
              "      <td>0</td>\n",
              "      <td>1</td>\n",
              "      <td>0</td>\n",
              "      <td>0</td>\n",
              "      <td>0</td>\n",
              "      <td>0</td>\n",
              "      <td>0</td>\n",
              "      <td>0</td>\n",
              "      <td>1</td>\n",
              "      <td>0</td>\n",
              "      <td>0</td>\n",
              "      <td>0</td>\n",
              "      <td>1</td>\n",
              "      <td>0</td>\n",
              "    </tr>\n",
              "    <tr>\n",
              "      <th>2</th>\n",
              "      <td>3</td>\n",
              "      <td>1</td>\n",
              "      <td>Heikkinen, Miss. Laina</td>\n",
              "      <td>1</td>\n",
              "      <td>0</td>\n",
              "      <td>0</td>\n",
              "      <td>STON/O2. 3101282</td>\n",
              "      <td>7.9250</td>\n",
              "      <td>0</td>\n",
              "      <td>1</td>\n",
              "      <td>0</td>\n",
              "      <td>0</td>\n",
              "      <td>1</td>\n",
              "      <td>0</td>\n",
              "      <td>0</td>\n",
              "      <td>1</td>\n",
              "      <td>0</td>\n",
              "      <td>0</td>\n",
              "      <td>0</td>\n",
              "      <td>0</td>\n",
              "      <td>0</td>\n",
              "      <td>1</td>\n",
              "      <td>0</td>\n",
              "      <td>1</td>\n",
              "      <td>0</td>\n",
              "      <td>0</td>\n",
              "      <td>0</td>\n",
              "      <td>1</td>\n",
              "      <td>0</td>\n",
              "      <td>0</td>\n",
              "      <td>0</td>\n",
              "    </tr>\n",
              "    <tr>\n",
              "      <th>3</th>\n",
              "      <td>4</td>\n",
              "      <td>1</td>\n",
              "      <td>Futrelle, Mrs. Jacques Heath (Lily May Peel)</td>\n",
              "      <td>1</td>\n",
              "      <td>1</td>\n",
              "      <td>0</td>\n",
              "      <td>113803</td>\n",
              "      <td>53.1000</td>\n",
              "      <td>1</td>\n",
              "      <td>0</td>\n",
              "      <td>1</td>\n",
              "      <td>0</td>\n",
              "      <td>0</td>\n",
              "      <td>0</td>\n",
              "      <td>0</td>\n",
              "      <td>1</td>\n",
              "      <td>0</td>\n",
              "      <td>0</td>\n",
              "      <td>1</td>\n",
              "      <td>0</td>\n",
              "      <td>0</td>\n",
              "      <td>0</td>\n",
              "      <td>0</td>\n",
              "      <td>0</td>\n",
              "      <td>0</td>\n",
              "      <td>1</td>\n",
              "      <td>0</td>\n",
              "      <td>0</td>\n",
              "      <td>0</td>\n",
              "      <td>1</td>\n",
              "      <td>0</td>\n",
              "    </tr>\n",
              "    <tr>\n",
              "      <th>4</th>\n",
              "      <td>5</td>\n",
              "      <td>0</td>\n",
              "      <td>Allen, Mr. William Henry</td>\n",
              "      <td>0</td>\n",
              "      <td>0</td>\n",
              "      <td>0</td>\n",
              "      <td>373450</td>\n",
              "      <td>8.0500</td>\n",
              "      <td>0</td>\n",
              "      <td>1</td>\n",
              "      <td>0</td>\n",
              "      <td>0</td>\n",
              "      <td>1</td>\n",
              "      <td>0</td>\n",
              "      <td>0</td>\n",
              "      <td>1</td>\n",
              "      <td>0</td>\n",
              "      <td>0</td>\n",
              "      <td>1</td>\n",
              "      <td>0</td>\n",
              "      <td>0</td>\n",
              "      <td>0</td>\n",
              "      <td>0</td>\n",
              "      <td>1</td>\n",
              "      <td>0</td>\n",
              "      <td>0</td>\n",
              "      <td>0</td>\n",
              "      <td>0</td>\n",
              "      <td>1</td>\n",
              "      <td>0</td>\n",
              "      <td>0</td>\n",
              "    </tr>\n",
              "  </tbody>\n",
              "</table>\n",
              "</div>"
            ],
            "text/plain": [
              "   PassengerId  Survived  ... Title_Mrs  Title_Rare\n",
              "0            1         0  ...         0           0\n",
              "1            2         1  ...         1           0\n",
              "2            3         1  ...         0           0\n",
              "3            4         1  ...         1           0\n",
              "4            5         0  ...         0           0\n",
              "\n",
              "[5 rows x 31 columns]"
            ]
          },
          "metadata": {
            "tags": []
          },
          "execution_count": 16
        }
      ]
    },
    {
      "cell_type": "markdown",
      "metadata": {
        "id": "wRY0hbyzIZSV"
      },
      "source": [
        "Feature selection"
      ]
    },
    {
      "cell_type": "code",
      "metadata": {
        "id": "tcG9J01dHVDN"
      },
      "source": [
        "# extracting the passenger column from the submission \n",
        "# dataset for later use during our submission\n",
        "passenger_id = predict.PassengerId\n",
        "\n",
        "# selection\n",
        "unwanted_features = ['PassengerId', 'Name', 'Ticket', 'Fare', 'SibSp', 'Parch']\n",
        "\n",
        "# dropping selection\n",
        "train   = train.drop(unwanted_features, axis=1)\n",
        "predict = predict.drop(unwanted_features, axis=1)"
      ],
      "execution_count": null,
      "outputs": []
    },
    {
      "cell_type": "code",
      "metadata": {
        "colab": {
          "base_uri": "https://localhost:8080/",
          "height": 367
        },
        "id": "NSY84qkRHVBf",
        "outputId": "a7e71e1e-c83c-4fa0-f02a-df1cd210b302"
      },
      "source": [
        "train.head(10)"
      ],
      "execution_count": null,
      "outputs": [
        {
          "output_type": "execute_result",
          "data": {
            "text/html": [
              "<div>\n",
              "<style scoped>\n",
              "    .dataframe tbody tr th:only-of-type {\n",
              "        vertical-align: middle;\n",
              "    }\n",
              "\n",
              "    .dataframe tbody tr th {\n",
              "        vertical-align: top;\n",
              "    }\n",
              "\n",
              "    .dataframe thead th {\n",
              "        text-align: right;\n",
              "    }\n",
              "</style>\n",
              "<table border=\"1\" class=\"dataframe\">\n",
              "  <thead>\n",
              "    <tr style=\"text-align: right;\">\n",
              "      <th></th>\n",
              "      <th>Survived</th>\n",
              "      <th>Sex</th>\n",
              "      <th>Cabin</th>\n",
              "      <th>TraveledAlone</th>\n",
              "      <th>Pclass_1</th>\n",
              "      <th>Pclass_2</th>\n",
              "      <th>Pclass_3</th>\n",
              "      <th>Embarked_C</th>\n",
              "      <th>Embarked_Q</th>\n",
              "      <th>Embarked_S</th>\n",
              "      <th>Age_child</th>\n",
              "      <th>Age_elderly</th>\n",
              "      <th>Age_mid_adult</th>\n",
              "      <th>Age_old_adult</th>\n",
              "      <th>Age_teenager</th>\n",
              "      <th>Age_young_adult</th>\n",
              "      <th>FareCategorical_cheap</th>\n",
              "      <th>FareCategorical_economy</th>\n",
              "      <th>FareCategorical_business</th>\n",
              "      <th>FareCategorical_first</th>\n",
              "      <th>Title_Master</th>\n",
              "      <th>Title_Miss</th>\n",
              "      <th>Title_Mr</th>\n",
              "      <th>Title_Mrs</th>\n",
              "      <th>Title_Rare</th>\n",
              "    </tr>\n",
              "  </thead>\n",
              "  <tbody>\n",
              "    <tr>\n",
              "      <th>0</th>\n",
              "      <td>0</td>\n",
              "      <td>0</td>\n",
              "      <td>0</td>\n",
              "      <td>0</td>\n",
              "      <td>0</td>\n",
              "      <td>0</td>\n",
              "      <td>1</td>\n",
              "      <td>0</td>\n",
              "      <td>0</td>\n",
              "      <td>1</td>\n",
              "      <td>0</td>\n",
              "      <td>0</td>\n",
              "      <td>0</td>\n",
              "      <td>0</td>\n",
              "      <td>0</td>\n",
              "      <td>1</td>\n",
              "      <td>1</td>\n",
              "      <td>0</td>\n",
              "      <td>0</td>\n",
              "      <td>0</td>\n",
              "      <td>0</td>\n",
              "      <td>0</td>\n",
              "      <td>1</td>\n",
              "      <td>0</td>\n",
              "      <td>0</td>\n",
              "    </tr>\n",
              "    <tr>\n",
              "      <th>1</th>\n",
              "      <td>1</td>\n",
              "      <td>1</td>\n",
              "      <td>1</td>\n",
              "      <td>0</td>\n",
              "      <td>1</td>\n",
              "      <td>0</td>\n",
              "      <td>0</td>\n",
              "      <td>1</td>\n",
              "      <td>0</td>\n",
              "      <td>0</td>\n",
              "      <td>0</td>\n",
              "      <td>0</td>\n",
              "      <td>1</td>\n",
              "      <td>0</td>\n",
              "      <td>0</td>\n",
              "      <td>0</td>\n",
              "      <td>0</td>\n",
              "      <td>0</td>\n",
              "      <td>0</td>\n",
              "      <td>1</td>\n",
              "      <td>0</td>\n",
              "      <td>0</td>\n",
              "      <td>0</td>\n",
              "      <td>1</td>\n",
              "      <td>0</td>\n",
              "    </tr>\n",
              "    <tr>\n",
              "      <th>2</th>\n",
              "      <td>1</td>\n",
              "      <td>1</td>\n",
              "      <td>0</td>\n",
              "      <td>1</td>\n",
              "      <td>0</td>\n",
              "      <td>0</td>\n",
              "      <td>1</td>\n",
              "      <td>0</td>\n",
              "      <td>0</td>\n",
              "      <td>1</td>\n",
              "      <td>0</td>\n",
              "      <td>0</td>\n",
              "      <td>0</td>\n",
              "      <td>0</td>\n",
              "      <td>0</td>\n",
              "      <td>1</td>\n",
              "      <td>0</td>\n",
              "      <td>1</td>\n",
              "      <td>0</td>\n",
              "      <td>0</td>\n",
              "      <td>0</td>\n",
              "      <td>1</td>\n",
              "      <td>0</td>\n",
              "      <td>0</td>\n",
              "      <td>0</td>\n",
              "    </tr>\n",
              "    <tr>\n",
              "      <th>3</th>\n",
              "      <td>1</td>\n",
              "      <td>1</td>\n",
              "      <td>1</td>\n",
              "      <td>0</td>\n",
              "      <td>1</td>\n",
              "      <td>0</td>\n",
              "      <td>0</td>\n",
              "      <td>0</td>\n",
              "      <td>0</td>\n",
              "      <td>1</td>\n",
              "      <td>0</td>\n",
              "      <td>0</td>\n",
              "      <td>1</td>\n",
              "      <td>0</td>\n",
              "      <td>0</td>\n",
              "      <td>0</td>\n",
              "      <td>0</td>\n",
              "      <td>0</td>\n",
              "      <td>0</td>\n",
              "      <td>1</td>\n",
              "      <td>0</td>\n",
              "      <td>0</td>\n",
              "      <td>0</td>\n",
              "      <td>1</td>\n",
              "      <td>0</td>\n",
              "    </tr>\n",
              "    <tr>\n",
              "      <th>4</th>\n",
              "      <td>0</td>\n",
              "      <td>0</td>\n",
              "      <td>0</td>\n",
              "      <td>1</td>\n",
              "      <td>0</td>\n",
              "      <td>0</td>\n",
              "      <td>1</td>\n",
              "      <td>0</td>\n",
              "      <td>0</td>\n",
              "      <td>1</td>\n",
              "      <td>0</td>\n",
              "      <td>0</td>\n",
              "      <td>1</td>\n",
              "      <td>0</td>\n",
              "      <td>0</td>\n",
              "      <td>0</td>\n",
              "      <td>0</td>\n",
              "      <td>1</td>\n",
              "      <td>0</td>\n",
              "      <td>0</td>\n",
              "      <td>0</td>\n",
              "      <td>0</td>\n",
              "      <td>1</td>\n",
              "      <td>0</td>\n",
              "      <td>0</td>\n",
              "    </tr>\n",
              "    <tr>\n",
              "      <th>5</th>\n",
              "      <td>0</td>\n",
              "      <td>0</td>\n",
              "      <td>0</td>\n",
              "      <td>1</td>\n",
              "      <td>0</td>\n",
              "      <td>0</td>\n",
              "      <td>1</td>\n",
              "      <td>0</td>\n",
              "      <td>1</td>\n",
              "      <td>0</td>\n",
              "      <td>0</td>\n",
              "      <td>0</td>\n",
              "      <td>0</td>\n",
              "      <td>1</td>\n",
              "      <td>0</td>\n",
              "      <td>0</td>\n",
              "      <td>0</td>\n",
              "      <td>1</td>\n",
              "      <td>0</td>\n",
              "      <td>0</td>\n",
              "      <td>0</td>\n",
              "      <td>0</td>\n",
              "      <td>1</td>\n",
              "      <td>0</td>\n",
              "      <td>0</td>\n",
              "    </tr>\n",
              "    <tr>\n",
              "      <th>6</th>\n",
              "      <td>0</td>\n",
              "      <td>0</td>\n",
              "      <td>1</td>\n",
              "      <td>1</td>\n",
              "      <td>1</td>\n",
              "      <td>0</td>\n",
              "      <td>0</td>\n",
              "      <td>0</td>\n",
              "      <td>0</td>\n",
              "      <td>1</td>\n",
              "      <td>0</td>\n",
              "      <td>1</td>\n",
              "      <td>0</td>\n",
              "      <td>0</td>\n",
              "      <td>0</td>\n",
              "      <td>0</td>\n",
              "      <td>0</td>\n",
              "      <td>0</td>\n",
              "      <td>0</td>\n",
              "      <td>1</td>\n",
              "      <td>0</td>\n",
              "      <td>0</td>\n",
              "      <td>1</td>\n",
              "      <td>0</td>\n",
              "      <td>0</td>\n",
              "    </tr>\n",
              "    <tr>\n",
              "      <th>7</th>\n",
              "      <td>0</td>\n",
              "      <td>0</td>\n",
              "      <td>0</td>\n",
              "      <td>0</td>\n",
              "      <td>0</td>\n",
              "      <td>0</td>\n",
              "      <td>1</td>\n",
              "      <td>0</td>\n",
              "      <td>0</td>\n",
              "      <td>1</td>\n",
              "      <td>1</td>\n",
              "      <td>0</td>\n",
              "      <td>0</td>\n",
              "      <td>0</td>\n",
              "      <td>0</td>\n",
              "      <td>0</td>\n",
              "      <td>0</td>\n",
              "      <td>0</td>\n",
              "      <td>1</td>\n",
              "      <td>0</td>\n",
              "      <td>1</td>\n",
              "      <td>0</td>\n",
              "      <td>0</td>\n",
              "      <td>0</td>\n",
              "      <td>0</td>\n",
              "    </tr>\n",
              "    <tr>\n",
              "      <th>8</th>\n",
              "      <td>1</td>\n",
              "      <td>1</td>\n",
              "      <td>0</td>\n",
              "      <td>0</td>\n",
              "      <td>0</td>\n",
              "      <td>0</td>\n",
              "      <td>1</td>\n",
              "      <td>0</td>\n",
              "      <td>0</td>\n",
              "      <td>1</td>\n",
              "      <td>0</td>\n",
              "      <td>0</td>\n",
              "      <td>0</td>\n",
              "      <td>0</td>\n",
              "      <td>0</td>\n",
              "      <td>1</td>\n",
              "      <td>0</td>\n",
              "      <td>1</td>\n",
              "      <td>0</td>\n",
              "      <td>0</td>\n",
              "      <td>0</td>\n",
              "      <td>0</td>\n",
              "      <td>0</td>\n",
              "      <td>1</td>\n",
              "      <td>0</td>\n",
              "    </tr>\n",
              "    <tr>\n",
              "      <th>9</th>\n",
              "      <td>1</td>\n",
              "      <td>1</td>\n",
              "      <td>0</td>\n",
              "      <td>0</td>\n",
              "      <td>0</td>\n",
              "      <td>1</td>\n",
              "      <td>0</td>\n",
              "      <td>1</td>\n",
              "      <td>0</td>\n",
              "      <td>0</td>\n",
              "      <td>0</td>\n",
              "      <td>0</td>\n",
              "      <td>0</td>\n",
              "      <td>0</td>\n",
              "      <td>1</td>\n",
              "      <td>0</td>\n",
              "      <td>0</td>\n",
              "      <td>0</td>\n",
              "      <td>1</td>\n",
              "      <td>0</td>\n",
              "      <td>0</td>\n",
              "      <td>0</td>\n",
              "      <td>0</td>\n",
              "      <td>1</td>\n",
              "      <td>0</td>\n",
              "    </tr>\n",
              "  </tbody>\n",
              "</table>\n",
              "</div>"
            ],
            "text/plain": [
              "   Survived  Sex  Cabin  ...  Title_Mr  Title_Mrs  Title_Rare\n",
              "0         0    0      0  ...         1          0           0\n",
              "1         1    1      1  ...         0          1           0\n",
              "2         1    1      0  ...         0          0           0\n",
              "3         1    1      1  ...         0          1           0\n",
              "4         0    0      0  ...         1          0           0\n",
              "5         0    0      0  ...         1          0           0\n",
              "6         0    0      1  ...         1          0           0\n",
              "7         0    0      0  ...         0          0           0\n",
              "8         1    1      0  ...         0          1           0\n",
              "9         1    1      0  ...         0          1           0\n",
              "\n",
              "[10 rows x 25 columns]"
            ]
          },
          "metadata": {
            "tags": []
          },
          "execution_count": 18
        }
      ]
    },
    {
      "cell_type": "markdown",
      "metadata": {
        "id": "f_So8b9UIfmR"
      },
      "source": [
        "Train/Test Split"
      ]
    },
    {
      "cell_type": "code",
      "metadata": {
        "id": "VBw9gKhIIsN5"
      },
      "source": [
        "# manual parameters\n",
        "TEST_RATIO = 0.2\n",
        "RANDOM_SEED = 42"
      ],
      "execution_count": null,
      "outputs": []
    },
    {
      "cell_type": "code",
      "metadata": {
        "id": "pR5y6DPWHU6f"
      },
      "source": [
        "features = train.drop('Survived', axis=1).values\n",
        "labels = train.Survived.values\n",
        "\n",
        "# splitting our \n",
        "from sklearn.model_selection import train_test_split\n",
        "X_train, X_test, y_train, y_test = train_test_split(features,\n",
        "                                                    labels,\n",
        "                                                    test_size=TEST_RATIO,\n",
        "                                                    random_state=RANDOM_SEED)"
      ],
      "execution_count": null,
      "outputs": []
    },
    {
      "cell_type": "code",
      "metadata": {
        "id": "3yvPuuv2IeXO"
      },
      "source": [
        "def training_accuracy_report(GridSearchCv_classifier):\n",
        "    print(\n",
        "f\"\"\"Best parameters: \n",
        "    {GridSearchCv_classifier.best_params_}\n",
        "    \n",
        "Best estimator:\n",
        "    {GridSearchCv_classifier.best_estimator_}\n",
        "    \n",
        "Mean cross-validated score of the best_estimator on the training set:\n",
        "    {GridSearchCv_classifier.best_score_*100:,.2f}%    \n",
        "\"\"\")\n"
      ],
      "execution_count": null,
      "outputs": []
    },
    {
      "cell_type": "markdown",
      "metadata": {
        "id": "kIjXerrSMrjw"
      },
      "source": [
        "<a name=\"2.1.1\"></a>\n",
        "#### 2.1.1 Support Vector Machine\n",
        "Back to [Table of Contents](#0)"
      ]
    },
    {
      "cell_type": "code",
      "metadata": {
        "id": "sGda3rO5IeTn",
        "colab": {
          "base_uri": "https://localhost:8080/"
        },
        "outputId": "799c8cff-1938-4f23-f965-8acdd0cc0f2f"
      },
      "source": [
        "from sklearn import svm\n",
        "from sklearn.model_selection import GridSearchCV\n",
        "\n",
        "# parameter grid for our search\n",
        "parameters = {\n",
        "    'C': [0.1, 1, 10],\n",
        "    'degree': [2, 3, 4], # only applies to kernel == 'poly'\n",
        "    'kernel': ('linear', 'rbf', 'poly')\n",
        "}\n",
        "\n",
        "# initiating our support vector machine\n",
        "svm = svm.SVC(gamma='scale',\n",
        "              probability=True,\n",
        "              random_state=RANDOM_SEED)\n",
        "classifier = GridSearchCV(estimator=svm,\n",
        "                          param_grid=parameters,\n",
        "                          cv=5)\n",
        "\n",
        "# fitting the model\n",
        "best_svm = classifier.fit(X_train, y_train)\n",
        "\n",
        "# view the results of our cross-validated grid search \n",
        "training_accuracy_report(best_svm)"
      ],
      "execution_count": null,
      "outputs": [
        {
          "output_type": "stream",
          "text": [
            "Best parameters: \n",
            "    {'C': 1, 'degree': 2, 'kernel': 'rbf'}\n",
            "    \n",
            "Best estimator:\n",
            "    SVC(C=1, break_ties=False, cache_size=200, class_weight=None, coef0=0.0,\n",
            "    decision_function_shape='ovr', degree=2, gamma='scale', kernel='rbf',\n",
            "    max_iter=-1, probability=True, random_state=42, shrinking=True, tol=0.001,\n",
            "    verbose=False)\n",
            "    \n",
            "Mean cross-validated score of the best_estimator on the training set:\n",
            "    82.16%    \n",
            "\n"
          ],
          "name": "stdout"
        }
      ]
    },
    {
      "cell_type": "code",
      "metadata": {
        "id": "zBHwL6clIeRi",
        "colab": {
          "base_uri": "https://localhost:8080/"
        },
        "outputId": "bd997a38-a35f-4238-856a-b3ca611fb199"
      },
      "source": [
        "# for accuracy calculation\n",
        "from sklearn import metrics\n",
        "\n",
        "# make predictions\n",
        "y_pred_svm = best_svm.predict(X_test)\n",
        "accuracy = metrics.accuracy_score(y_test, y_pred_svm)\n",
        "\n",
        "# how often is the classifier correct?\n",
        "print(f'Accuracy on the test set: {accuracy*100:,.2f}%')"
      ],
      "execution_count": null,
      "outputs": [
        {
          "output_type": "stream",
          "text": [
            "Accuracy on the test set: 78.77%\n"
          ],
          "name": "stdout"
        }
      ]
    },
    {
      "cell_type": "markdown",
      "metadata": {
        "id": "TwBsPm1mM4EO"
      },
      "source": [
        "<a name=\"2.1.2\"></a>\n",
        "#### 2.1.2 Gradient Boosted Trees\n",
        "Back to [Table of Contents](#0)"
      ]
    },
    {
      "cell_type": "code",
      "metadata": {
        "id": "48d1M_UFIePL",
        "colab": {
          "base_uri": "https://localhost:8080/"
        },
        "outputId": "a331bdde-995c-42b3-ec71-0efaf0d0d11b"
      },
      "source": [
        "import xgboost as xgb\n",
        "\n",
        "# parameter grid for our search\n",
        "parameters = {\n",
        "    'min_child_weight': [5, 6, 7],\n",
        "    'gamma': [0, 0.2],\n",
        "    'colsample_bytree': [0, 0.2, 0.4],\n",
        "    'max_depth': [3, 4, 5]\n",
        "}\n",
        "\n",
        "# initiating our gradient boosted tree\n",
        "xgb = xgb.XGBClassifier(objective='reg:squarederror', random_state=RANDOM_SEED)\n",
        "classifier = GridSearchCV(estimator=xgb,\n",
        "                          param_grid=parameters,\n",
        "                          cv=5)\n",
        "\n",
        "# fitting the model\n",
        "best_xgb = classifier.fit(X_train, y_train)\n",
        "\n",
        "# view the results of our cross-validated grid search \n",
        "training_accuracy_report(best_xgb)"
      ],
      "execution_count": null,
      "outputs": [
        {
          "output_type": "stream",
          "text": [
            "Best parameters: \n",
            "    {'colsample_bytree': 0.4, 'gamma': 0, 'max_depth': 5, 'min_child_weight': 6}\n",
            "    \n",
            "Best estimator:\n",
            "    XGBClassifier(base_score=0.5, booster='gbtree', colsample_bylevel=1,\n",
            "              colsample_bynode=1, colsample_bytree=0.4, gamma=0,\n",
            "              learning_rate=0.1, max_delta_step=0, max_depth=5,\n",
            "              min_child_weight=6, missing=None, n_estimators=100, n_jobs=1,\n",
            "              nthread=None, objective='reg:squarederror', random_state=42,\n",
            "              reg_alpha=0, reg_lambda=1, scale_pos_weight=1, seed=None,\n",
            "              silent=None, subsample=1, verbosity=1)\n",
            "    \n",
            "Mean cross-validated score of the best_estimator on the training set:\n",
            "    81.74%    \n",
            "\n"
          ],
          "name": "stdout"
        }
      ]
    },
    {
      "cell_type": "code",
      "metadata": {
        "id": "cV5E70s6IeM9",
        "colab": {
          "base_uri": "https://localhost:8080/"
        },
        "outputId": "ab1a1950-b036-4748-cf14-8cbad4928285"
      },
      "source": [
        "# make predictions\n",
        "y_pred_xgb = best_xgb.predict(X_test)\n",
        "accuracy = metrics.accuracy_score(y_test, y_pred_xgb)\n",
        "\n",
        "# how often is the classifier correct?\n",
        "print(f'Accuracy on the test set: {accuracy*100:,.2f}%')"
      ],
      "execution_count": null,
      "outputs": [
        {
          "output_type": "stream",
          "text": [
            "Accuracy on the test set: 79.89%\n"
          ],
          "name": "stdout"
        }
      ]
    },
    {
      "cell_type": "markdown",
      "metadata": {
        "id": "3MJG2jSfNC4O"
      },
      "source": [
        "<a name=\"2.1.3\"></a>\n",
        "#### 2.1.3 Random Forest\n",
        "Back to [Table of Contents](#0)"
      ]
    },
    {
      "cell_type": "code",
      "metadata": {
        "id": "On3WX_dxIeLA",
        "colab": {
          "base_uri": "https://localhost:8080/"
        },
        "outputId": "982f95ef-50b1-4459-bcbc-cca2a6f3e962"
      },
      "source": [
        "from sklearn.ensemble import RandomForestClassifier\n",
        "\n",
        "# parameter grid for our search\n",
        "parameters = {\n",
        "    'n_estimators': [75, 100, 125, ],\n",
        "    'max_depth': [10, 50, 100, None],\n",
        "    'max_features': [0.5, 1],\n",
        "    'min_samples_split': [2, 3, 10],\n",
        "    'min_samples_leaf': [2, 3]\n",
        "}\n",
        "\n",
        "rfc = RandomForestClassifier(criterion='gini',\n",
        "                             bootstrap=False,\n",
        "                             random_state=RANDOM_SEED)\n",
        "classifier = GridSearchCV(estimator=rfc,\n",
        "                          param_grid=parameters,\n",
        "                          cv=5)\n",
        "\n",
        "# fitting the model\n",
        "best_rfc = classifier.fit(X_train, y_train)\n",
        "\n",
        "# view the results of our cross-validated grid search \n",
        "training_accuracy_report(best_rfc)"
      ],
      "execution_count": null,
      "outputs": [
        {
          "output_type": "stream",
          "text": [
            "Best parameters: \n",
            "    {'max_depth': 50, 'max_features': 1, 'min_samples_leaf': 2, 'min_samples_split': 2, 'n_estimators': 75}\n",
            "    \n",
            "Best estimator:\n",
            "    RandomForestClassifier(bootstrap=False, ccp_alpha=0.0, class_weight=None,\n",
            "                       criterion='gini', max_depth=50, max_features=1,\n",
            "                       max_leaf_nodes=None, max_samples=None,\n",
            "                       min_impurity_decrease=0.0, min_impurity_split=None,\n",
            "                       min_samples_leaf=2, min_samples_split=2,\n",
            "                       min_weight_fraction_leaf=0.0, n_estimators=75,\n",
            "                       n_jobs=None, oob_score=False, random_state=42, verbose=0,\n",
            "                       warm_start=False)\n",
            "    \n",
            "Mean cross-validated score of the best_estimator on the training set:\n",
            "    82.45%    \n",
            "\n"
          ],
          "name": "stdout"
        }
      ]
    },
    {
      "cell_type": "code",
      "metadata": {
        "id": "i8MB02bJIeH-",
        "colab": {
          "base_uri": "https://localhost:8080/"
        },
        "outputId": "6bae9777-7f51-42ea-8aaf-9889bc28dcac"
      },
      "source": [
        "from sklearn.ensemble import VotingClassifier\n",
        "\n",
        "# make predictions\n",
        "y_pred_rfc = best_rfc.predict(X_test)\n",
        "accuracy = metrics.accuracy_score(y_test, y_pred_rfc)\n",
        "\n",
        "# how often is the classifier correct?\n",
        "print(f'Accuracy on the test set: {accuracy*100:,.2f}%')"
      ],
      "execution_count": null,
      "outputs": [
        {
          "output_type": "stream",
          "text": [
            "Accuracy on the test set: 78.77%\n"
          ],
          "name": "stdout"
        }
      ]
    },
    {
      "cell_type": "markdown",
      "metadata": {
        "id": "-8CgAEVZNaUt"
      },
      "source": [
        "<a name=\"2.1\"></a>\n",
        "### 2.1 Max Voting\n",
        "Back to [Table of Contents](#0)"
      ]
    },
    {
      "cell_type": "code",
      "metadata": {
        "id": "hR5FfYfIIeE2"
      },
      "source": [
        "# ProjectPro - https://www.dezyre.com/\n",
        "# 3.1.1 - Max Voting\n",
        "# Using sklearn.ensemble.VotingClassifier to perform Max Voting\n",
        "vc = VotingClassifier(\n",
        "    \n",
        "    # Support Vector Machine, XGBoost and Random Forest Classifier\n",
        "    estimators=[\n",
        "        ('svm', best_svm),\n",
        "        ('xgb', best_xgb),\n",
        "        ('rfc', best_rfc)\n",
        "    ], \n",
        "    \n",
        "    # soft = Probabilities are taken into account\n",
        "    # hard = Only the outcome counts\n",
        "    voting='soft',\n",
        "    \n",
        "    # You can add weights, if required\n",
        "    weights=[1, 1, 1] \n",
        "    \n",
        ")\n",
        "\n",
        "# Fitting\n",
        "vc = vc.fit(X_train, y_train)"
      ],
      "execution_count": null,
      "outputs": []
    },
    {
      "cell_type": "code",
      "metadata": {
        "id": "inqtuCnqIeCO",
        "colab": {
          "base_uri": "https://localhost:8080/"
        },
        "outputId": "5903425a-889b-45fb-d546-ec4212abb0ca"
      },
      "source": [
        "# accuracy on test set\n",
        "y_pred_vc = vc.predict(X_test)\n",
        "accuracy = metrics.accuracy_score(y_test, y_pred_vc)\n",
        "\n",
        "# how often is the classifier correct?\n",
        "print(f'Accuracy on the test set: {accuracy*100:,.2f}%')"
      ],
      "execution_count": null,
      "outputs": [
        {
          "output_type": "stream",
          "text": [
            "Accuracy on the test set: 79.89%\n"
          ],
          "name": "stdout"
        }
      ]
    },
    {
      "cell_type": "markdown",
      "metadata": {
        "id": "WCCFGvVhnJSW"
      },
      "source": [
        "<a name=\"2.2\"></a>\n",
        "### 2.2 Averaging\n",
        "Back to [Table of Contents](#0)"
      ]
    },
    {
      "cell_type": "code",
      "metadata": {
        "colab": {
          "base_uri": "https://localhost:8080/"
        },
        "id": "4lES-PMvSNtW",
        "outputId": "e4503d2e-1283-410b-9206-2981a783bbea"
      },
      "source": [
        "# ProjectPro - https://www.dezyre.com/\n",
        "# 3.1.2 - Averaging\n",
        "\n",
        "# Results of XGBoost\n",
        "resultXGB = best_xgb.best_score_*100\n",
        "print(f'XGBoost: {resultXGB:,.2f}%')\n",
        "\n",
        "# Results of SVM\n",
        "resultSVM = best_svm.best_score_*100\n",
        "print(f'Support Vector Machine: {resultSVM:,.2f}%')\n",
        "\n",
        "# Results of Random Forest\n",
        "resultRFC = best_rfc.best_score_*100\n",
        "print(f'Random Forest Classifier: {resultRFC:,.2f}%')"
      ],
      "execution_count": null,
      "outputs": [
        {
          "output_type": "stream",
          "text": [
            "XGBoost: 81.74%\n",
            "Support Vector Machine: 82.16%\n",
            "Random Forest Classifier: 82.45%\n"
          ],
          "name": "stdout"
        }
      ]
    },
    {
      "cell_type": "code",
      "metadata": {
        "colab": {
          "base_uri": "https://localhost:8080/"
        },
        "id": "Ys4PzL9dTg4Y",
        "outputId": "71f7edcc-28c4-49bd-f4d3-88f0f1c62c19"
      },
      "source": [
        "# Averaging the results of the three models\n",
        "resultAverage = (resultXGB + resultSVM + resultRFC) / 3\n",
        "print(f'Ensemble Model - Averaging: {resultXGB:,.2f}%')"
      ],
      "execution_count": null,
      "outputs": [
        {
          "output_type": "stream",
          "text": [
            "Ensemble Model - Averaging: 81.74%\n"
          ],
          "name": "stdout"
        }
      ]
    },
    {
      "cell_type": "markdown",
      "metadata": {
        "id": "v-i_S8qwnJP5"
      },
      "source": [
        "<a name=\"2.3\"></a>\n",
        "### 2.3 Weighted Average\n",
        "Back to [Table of Contents](#0)"
      ]
    },
    {
      "cell_type": "code",
      "metadata": {
        "colab": {
          "base_uri": "https://localhost:8080/"
        },
        "id": "SMWG7RyUUR6R",
        "outputId": "7aa5cebc-2c22-434d-920c-35bdeb045996"
      },
      "source": [
        "# ProjectPro - https://www.dezyre.com/\n",
        "# 3.1.3 - Weighted Average Ensemble Model\n",
        "# Weight assigned and Result for XGBoost\n",
        "weightXGB = 0.3\n",
        "resultXGB = best_xgb.best_score_*100\n",
        "print(f'Weight for XGBoost: {weightXGB:,.1f}')\n",
        "print(f'Result for XGBoost: {resultXGB:,.2f}%')"
      ],
      "execution_count": null,
      "outputs": [
        {
          "output_type": "stream",
          "text": [
            "Weight for XGBoost: 0.3\n",
            "Result for XGBoost: 81.74%\n"
          ],
          "name": "stdout"
        }
      ]
    },
    {
      "cell_type": "code",
      "metadata": {
        "colab": {
          "base_uri": "https://localhost:8080/"
        },
        "id": "WeV4EtXaUR3C",
        "outputId": "23e45fe9-5b3b-4f44-e307-aebfc818d9fd"
      },
      "source": [
        "# Weight assigned and Result for Support Vector Machine\n",
        "weightSVM = 0.3\n",
        "resultSVM = best_svm.best_score_*100\n",
        "print(f'Weight for Support Vector Machine: {weightSVM:,.1f}')\n",
        "print(f'Result for Support Vector Machine: {resultSVM:,.2f}%')"
      ],
      "execution_count": null,
      "outputs": [
        {
          "output_type": "stream",
          "text": [
            "Weight for Support Vector Machine: 0.3\n",
            "Result for Support Vector Machine: 82.16%\n"
          ],
          "name": "stdout"
        }
      ]
    },
    {
      "cell_type": "code",
      "metadata": {
        "colab": {
          "base_uri": "https://localhost:8080/"
        },
        "id": "FSNCp2_UUR0c",
        "outputId": "913f01aa-ea8a-46b9-9fd6-9e3135c174e7"
      },
      "source": [
        "# Weight assigned and Result for Random Forest Classifier\n",
        "weightRFC = 0.4\n",
        "resultRFC = best_rfc.best_score_*100\n",
        "print(f'Weight for Random Forest Classifier: {weightRFC:,.1f}')\n",
        "print(f'Result for Random Forest Classifier: {resultRFC:,.2f}%')"
      ],
      "execution_count": null,
      "outputs": [
        {
          "output_type": "stream",
          "text": [
            "Weight for Random Forest Classifier: 0.4\n",
            "Result for Random Forest Classifier: 82.45%\n"
          ],
          "name": "stdout"
        }
      ]
    },
    {
      "cell_type": "code",
      "metadata": {
        "colab": {
          "base_uri": "https://localhost:8080/"
        },
        "id": "tXmPClVJURx4",
        "outputId": "2447bfc5-2d49-43ac-a0d9-08cd3d9bf4d9"
      },
      "source": [
        "# Calculating Weighted Average\n",
        "resultWeightedAverage = ( weightXGB*resultXGB + weightSVM*resultSVM + weightRFC*resultRFC)\n",
        "print(f'Result for Weighted Average: {resultWeightedAverage:,.2f}%')"
      ],
      "execution_count": null,
      "outputs": [
        {
          "output_type": "stream",
          "text": [
            "Result for Weighted Average: 82.15%\n"
          ],
          "name": "stdout"
        }
      ]
    },
    {
      "cell_type": "markdown",
      "metadata": {
        "id": "NLSvPBrnnJNN"
      },
      "source": [
        "<a name=\"2.4\"></a>\n",
        "### 2.4 Bagging - Processing\n",
        "Back to [Table of Contents](#0)"
      ]
    },
    {
      "cell_type": "code",
      "metadata": {
        "id": "im2VNCC1ngga",
        "cellView": "form"
      },
      "source": [
        "#@title Processing\n",
        "from sklearn.ensemble import BaggingClassifier\n",
        "from sklearn.model_selection import GridSearchCV, StratifiedShuffleSplit\n",
        "from matplotlib import pyplot as plt\n",
        "import seaborn as sns\n",
        "\n",
        "train = titanicTrainDf.copy(deep = True)\n",
        "test = titanicTestDf.copy(deep = True)\n",
        "\n",
        "## saving passenger id in advance in order to submit later. \n",
        "passengerid = test.PassengerId\n",
        "\n",
        "## Replacing the null values in the Embarked column with the mode. \n",
        "train.Embarked.fillna(\"C\", inplace=True)\n",
        "\n",
        "## Concat train and test into a variable \"all_data\"\n",
        "survivers = train.Survived\n",
        "\n",
        "train.drop([\"Survived\"],axis=1, inplace=True)\n",
        "\n",
        "all_data = pd.concat([train,test], ignore_index=False)\n",
        "\n",
        "## Assign all the null values to N\n",
        "all_data.Cabin.fillna(\"N\", inplace=True)\n",
        "\n",
        "all_data.Cabin = [i[0] for i in all_data.Cabin]\n",
        "\n",
        "with_N = all_data[all_data.Cabin == \"N\"]\n",
        "\n",
        "without_N = all_data[all_data.Cabin != \"N\"]\n",
        "\n",
        "all_data.groupby(\"Cabin\")['Fare'].mean().sort_values()\n",
        "\n",
        "def cabin_estimator(i):\n",
        "    a = 0\n",
        "    if i<16:\n",
        "        a = \"G\"\n",
        "    elif i>=16 and i<27:\n",
        "        a = \"F\"\n",
        "    elif i>=27 and i<38:\n",
        "        a = \"T\"\n",
        "    elif i>=38 and i<47:\n",
        "        a = \"A\"\n",
        "    elif i>= 47 and i<53:\n",
        "        a = \"E\"\n",
        "    elif i>= 53 and i<54:\n",
        "        a = \"D\"\n",
        "    elif i>=54 and i<116:\n",
        "        a = 'C'\n",
        "    else:\n",
        "        a = \"B\"\n",
        "    return a\n",
        "    \n",
        "\n",
        "##applying cabin estimator function. \n",
        "with_N['Cabin'] = with_N.Fare.apply(lambda x: cabin_estimator(x))\n",
        "\n",
        "## getting back train. \n",
        "all_data = pd.concat([with_N, without_N], axis=0)\n",
        "\n",
        "## PassengerId helps us separate train and test. \n",
        "all_data.sort_values(by = 'PassengerId', inplace=True)\n",
        "\n",
        "## Separating train and test from all_data. \n",
        "train = all_data[:891]\n",
        "\n",
        "test = all_data[891:]\n",
        "\n",
        "# adding saved target variable with train. \n",
        "train['Survived'] = survivers\n",
        "\n",
        "missing_value = test[(test.Pclass == 3) & (test.Embarked == \"S\") & (test.Sex == \"male\")].Fare.mean()\n",
        "## replace the test.fare null values with test.fare mean\n",
        "test.Fare.fillna(missing_value, inplace=True)\n",
        "\n",
        "## dropping the three outliers where Fare is over $500 \n",
        "train = train[train.Fare < 500]\n",
        "\n",
        "# Placing 0 for female and \n",
        "# 1 for male in the \"Sex\" column. \n",
        "train['Sex'] = train.Sex.apply(lambda x: 0 if x == \"female\" else 1)\n",
        "test['Sex'] = test.Sex.apply(lambda x: 0 if x == \"female\" else 1)\n",
        "\n",
        "# Creating a new colomn with a \n",
        "train['name_length'] = [len(i) for i in train.Name]\n",
        "test['name_length'] = [len(i) for i in test.Name]\n",
        "\n",
        "def name_length_group(size):\n",
        "    a = ''\n",
        "    if (size <=20):\n",
        "        a = 'short'\n",
        "    elif (size <=35):\n",
        "        a = 'medium'\n",
        "    elif (size <=45):\n",
        "        a = 'good'\n",
        "    else:\n",
        "        a = 'long'\n",
        "    return a\n",
        "\n",
        "\n",
        "train['nLength_group'] = train['name_length'].map(name_length_group)\n",
        "test['nLength_group'] = test['name_length'].map(name_length_group)\n",
        "\n",
        "## Here \"map\" is python's built-in function. \n",
        "## \"map\" function basically takes a function and \n",
        "## returns an iterable list/tuple or in this case series. \n",
        "## However,\"map\" can also be used like map(function) e.g. map(name_length_group) \n",
        "## or map(function, iterable{list, tuple}) e.g. map(name_length_group, train[feature]]). \n",
        "## However, here we don't need to use parameter(\"size\") for name_length_group because when we \n",
        "## used the map function like \".map\" with a series before dot, we are basically hinting that series \n",
        "## and the iterable. This is similar to .append approach in python. list.append(a) meaning applying append on list. \n",
        "\n",
        "## cuts the column by given bins based on the range of name_length\n",
        "#group_names = ['short', 'medium', 'good', 'long']\n",
        "#train['name_len_group'] = pd.cut(train['name_length'], bins = 4, labels=group_names)\n",
        "\n",
        "## Title\n",
        "## get the title from the name\n",
        "train[\"title\"] = [i.split('.')[0] for i in train.Name]\n",
        "train[\"title\"] = [i.split(',')[1] for i in train.title]\n",
        "test[\"title\"] = [i.split('.')[0] for i in test.Name]\n",
        "test[\"title\"]= [i.split(',')[1] for i in test.title]\n",
        "\n",
        "#rare_title = ['the Countess','Capt','Lady','Sir','Jonkheer','Don','Major','Col']\n",
        "#train.Name = ['rare' for i in train.Name for j in rare_title if i == j]\n",
        "## train Data\n",
        "train[\"title\"] = [i.replace('Ms', 'Miss') for i in train.title]\n",
        "train[\"title\"] = [i.replace('Mlle', 'Miss') for i in train.title]\n",
        "train[\"title\"] = [i.replace('Mme', 'Mrs') for i in train.title]\n",
        "train[\"title\"] = [i.replace('Dr', 'rare') for i in train.title]\n",
        "train[\"title\"] = [i.replace('Col', 'rare') for i in train.title]\n",
        "train[\"title\"] = [i.replace('Major', 'rare') for i in train.title]\n",
        "train[\"title\"] = [i.replace('Don', 'rare') for i in train.title]\n",
        "train[\"title\"] = [i.replace('Jonkheer', 'rare') for i in train.title]\n",
        "train[\"title\"] = [i.replace('Sir', 'rare') for i in train.title]\n",
        "train[\"title\"] = [i.replace('Lady', 'rare') for i in train.title]\n",
        "train[\"title\"] = [i.replace('Capt', 'rare') for i in train.title]\n",
        "train[\"title\"] = [i.replace('the Countess', 'rare') for i in train.title]\n",
        "train[\"title\"] = [i.replace('Rev', 'rare') for i in train.title]\n",
        "\n",
        "\n",
        "\n",
        "#rare_title = ['the Countess','Capt','Lady','Sir','Jonkheer','Don','Major','Col']\n",
        "#train.Name = ['rare' for i in train.Name for j in rare_title if i == j]\n",
        "## test data\n",
        "test['title'] = [i.replace('Ms', 'Miss') for i in test.title]\n",
        "test['title'] = [i.replace('Dr', 'rare') for i in test.title]\n",
        "test['title'] = [i.replace('Col', 'rare') for i in test.title]\n",
        "test['title'] = [i.replace('Dona', 'rare') for i in test.title]\n",
        "test['title'] = [i.replace('Rev', 'rare') for i in test.title]\n",
        "\n",
        "## Family_size seems like a good feature to create\n",
        "train['family_size'] = train.SibSp + train.Parch+1\n",
        "test['family_size'] = test.SibSp + test.Parch+1\n",
        "\n",
        "def family_group(size):\n",
        "    a = ''\n",
        "    if (size <= 1):\n",
        "        a = 'loner'\n",
        "    elif (size <= 4):\n",
        "        a = 'small'\n",
        "    else:\n",
        "        a = 'large'\n",
        "    return a\n",
        "\n",
        "train['family_group'] = train['family_size'].map(family_group)\n",
        "test['family_group'] = test['family_size'].map(family_group)\n",
        "\n",
        "train['is_alone'] = [1 if i<2 else 0 for i in train.family_size]\n",
        "test['is_alone'] = [1 if i<2 else 0 for i in test.family_size]\n",
        "\n",
        "train.drop(['Ticket'], axis=1, inplace=True)\n",
        "\n",
        "test.drop(['Ticket'], axis=1, inplace=True)\n",
        "\n",
        "## Calculating fare based on family size. \n",
        "train['calculated_fare'] = train.Fare/train.family_size\n",
        "test['calculated_fare'] = test.Fare/test.family_size\n",
        "\n",
        "def fare_group(fare):\n",
        "    a= ''\n",
        "    if fare <= 4:\n",
        "        a = 'Very_low'\n",
        "    elif fare <= 10:\n",
        "        a = 'low'\n",
        "    elif fare <= 20:\n",
        "        a = 'mid'\n",
        "    elif fare <= 45:\n",
        "        a = 'high'\n",
        "    else:\n",
        "        a = \"very_high\"\n",
        "    return a\n",
        "\n",
        "train['fare_group'] = train['calculated_fare'].map(fare_group)\n",
        "test['fare_group'] = test['calculated_fare'].map(fare_group)\n",
        "\n",
        "#train['fare_group'] = pd.cut(train['calculated_fare'], bins = 4, labels=groups)\n",
        "\n",
        "train.drop(['PassengerId'], axis=1, inplace=True)\n",
        "\n",
        "test.drop(['PassengerId'], axis=1, inplace=True)\n",
        "\n",
        "\n",
        "train = pd.get_dummies(train, columns=['title',\"Pclass\", 'Cabin','Embarked','nLength_group', 'family_group', 'fare_group'], drop_first=False)\n",
        "test = pd.get_dummies(test, columns=['title',\"Pclass\",'Cabin','Embarked','nLength_group', 'family_group', 'fare_group'], drop_first=False)\n",
        "train.drop(['family_size','Name', 'Fare','name_length'], axis=1, inplace=True)\n",
        "test.drop(['Name','family_size',\"Fare\",'name_length'], axis=1, inplace=True)\n",
        "\n",
        "## rearranging the columns so that I can easily use the dataframe to predict the missing age values. \n",
        "train = pd.concat([train[[\"Survived\", \"Age\", \"Sex\",\"SibSp\",\"Parch\"]], train.loc[:,\"is_alone\":]], axis=1)\n",
        "test = pd.concat([test[[\"Age\", \"Sex\"]], test.loc[:,\"SibSp\":]], axis=1)\n",
        "\n",
        "## Importing RandomForestRegressor\n",
        "from sklearn.ensemble import RandomForestRegressor\n",
        "\n",
        "## writing a function that takes a dataframe with missing values and outputs it by filling the missing values. \n",
        "def completing_age(df):\n",
        "    ## gettting all the features except survived\n",
        "    age_df = df.loc[:,\"Age\":] \n",
        "    \n",
        "    temp_train = age_df.loc[age_df.Age.notnull()] ## df with age values\n",
        "    temp_test = age_df.loc[age_df.Age.isnull()] ## df without age values\n",
        "    \n",
        "    y = temp_train.Age.values ## setting target variables(age) in y \n",
        "    x = temp_train.loc[:, \"Sex\":].values\n",
        "    \n",
        "    rfr = RandomForestRegressor(n_estimators=1500, n_jobs=-1)\n",
        "    rfr.fit(x, y)\n",
        "    \n",
        "    predicted_age = rfr.predict(temp_test.loc[:, \"Sex\":])\n",
        "    \n",
        "    df.loc[df.Age.isnull(), \"Age\"] = predicted_age\n",
        "    \n",
        "\n",
        "    return df\n",
        "\n",
        "## Implementing the completing_age function in both train and test dataset. \n",
        "completing_age(train)\n",
        "completing_age(test);\n",
        "\n",
        "## create bins for age\n",
        "def age_group_fun(age):\n",
        "    a = ''\n",
        "    if age <= 1:\n",
        "        a = 'infant'\n",
        "    elif age <= 4: \n",
        "        a = 'toddler'\n",
        "    elif age <= 13:\n",
        "        a = 'child'\n",
        "    elif age <= 18:\n",
        "        a = 'teenager'\n",
        "    elif age <= 35:\n",
        "        a = 'Young_Adult'\n",
        "    elif age <= 45:\n",
        "        a = 'adult'\n",
        "    elif age <= 55:\n",
        "        a = 'middle_aged'\n",
        "    elif age <= 65:\n",
        "        a = 'senior_citizen'\n",
        "    else:\n",
        "        a = 'old'\n",
        "    return a\n",
        "        \n",
        "## Applying \"age_group_fun\" function to the \"Age\" column.\n",
        "train['age_group'] = train['Age'].map(age_group_fun)\n",
        "test['age_group'] = test['Age'].map(age_group_fun)\n",
        "\n",
        "## Creating dummies for \"age_group\" feature. \n",
        "train = pd.get_dummies(train,columns=['age_group'], drop_first=True)\n",
        "test = pd.get_dummies(test,columns=['age_group'], drop_first=True);\n",
        "\n",
        "\"\"\"train.drop('Age', axis=1, inplace=True)\n",
        "test.drop('Age', axis=1, inplace=True)\"\"\"\n",
        "\n",
        "# separating our independent and dependent variable\n",
        "X = train.drop(['Survived'], axis = 1)\n",
        "y = train[\"Survived\"]\n",
        "\n",
        "\n",
        "#age_filled_data_nor = NuclearNormMinimization().complete(df1)\n",
        "#Data_1 = pd.DataFrame(age_filled_data, columns = df1.columns)\n",
        "#pd.DataFrame(zip(Data[\"Age\"],Data_1[\"Age\"],df[\"Age\"]))\n",
        "\n",
        "from sklearn.model_selection import train_test_split\n",
        "train_x, test_x, train_y, test_y = train_test_split(X,y,test_size = .33, random_state = 0)\n",
        "\n",
        "# Feature Scaling\n",
        "## We will be using standardscaler to transform\n",
        "from sklearn.preprocessing import StandardScaler\n",
        "sc = StandardScaler()\n",
        "\n",
        "## transforming \"train_x\"\n",
        "train_x = sc.fit_transform(train_x)\n",
        "## transforming \"test_x\"\n",
        "test_x = sc.transform(test_x)\n",
        "\n",
        "## transforming \"The testset\"\n",
        "test = sc.transform(test)\n",
        "\n",
        "## changing calculated_fare type\n",
        "train.calculated_fare = train.calculated_fare.astype(float)\n",
        "\n",
        "## Using StratifiedShuffleSplit\n",
        "## We can use KFold, StratifiedShuffleSplit, StratiriedKFold or ShuffleSplit, They are all close cousins. look at sklearn userguide for more info.   \n",
        "from sklearn.model_selection import StratifiedShuffleSplit, cross_val_score\n",
        "cv = StratifiedShuffleSplit(n_splits = 10, test_size = .25, random_state = 0 ) # run model 10x with 60/30 split intentionally leaving out 10%\n",
        "## Using standard scale for the whole dataset.\n",
        "\n",
        "## saving the feature names for decision tree display\n",
        "column_names = X.columns\n",
        "\n",
        "X = sc.fit_transform(X)"
      ],
      "execution_count": null,
      "outputs": []
    },
    {
      "cell_type": "code",
      "metadata": {
        "colab": {
          "base_uri": "https://localhost:8080/"
        },
        "id": "6vKJIHtCngdx",
        "outputId": "e5e02acf-aa49-4dff-9458-967a2849fe55"
      },
      "source": [
        "# 3.2 - Bagging Ensemble Model\n",
        "from sklearn.ensemble import BaggingClassifier\n",
        "from sklearn.model_selection import GridSearchCV, StratifiedShuffleSplit\n",
        "\n",
        "n_estimators = [10,30,50,70,80,150,160, 170,175,180,185];\n",
        "\n",
        "cv = StratifiedShuffleSplit(n_splits=10, test_size=.30, random_state=15)\n",
        "parameters = {'n_estimators':n_estimators,}\n",
        "grid = GridSearchCV(\n",
        "                    BaggingClassifier\n",
        "                    (\n",
        "                    # Default for base estimator is a Decision Tree\n",
        "                      base_estimator= None,\n",
        "                    # Indicative of whether a feature is drawn with replacement \n",
        "                      bootstrap_features=False),\n",
        "                      param_grid=parameters,\n",
        "                      cv=cv,\n",
        "                      n_jobs = -1\n",
        "                    )\n",
        "grid.fit(X,y) "
      ],
      "execution_count": null,
      "outputs": [
        {
          "output_type": "execute_result",
          "data": {
            "text/plain": [
              "GridSearchCV(cv=StratifiedShuffleSplit(n_splits=10, random_state=15, test_size=0.3,\n",
              "            train_size=None),\n",
              "             error_score=nan,\n",
              "             estimator=BaggingClassifier(base_estimator=None, bootstrap=True,\n",
              "                                         bootstrap_features=False,\n",
              "                                         max_features=1.0, max_samples=1.0,\n",
              "                                         n_estimators=10, n_jobs=None,\n",
              "                                         oob_score=False, random_state=None,\n",
              "                                         verbose=0, warm_start=False),\n",
              "             iid='deprecated', n_jobs=-1,\n",
              "             param_grid={'n_estimators': [10, 30, 50, 70, 80, 150, 160, 170,\n",
              "                                          175, 180, 185]},\n",
              "             pre_dispatch='2*n_jobs', refit=True, return_train_score=False,\n",
              "             scoring=None, verbose=0)"
            ]
          },
          "metadata": {
            "tags": []
          },
          "execution_count": 39
        }
      ]
    },
    {
      "cell_type": "code",
      "metadata": {
        "colab": {
          "base_uri": "https://localhost:8080/"
        },
        "id": "CQ4SSd2bngbD",
        "outputId": "65e3e290-9620-4396-fe6a-b2f7112b3494"
      },
      "source": [
        "print (grid.best_score_)\n",
        "print (grid.best_params_)\n",
        "print (grid.best_estimator_)"
      ],
      "execution_count": null,
      "outputs": [
        {
          "output_type": "stream",
          "text": [
            "0.8172284644194757\n",
            "{'n_estimators': 170}\n",
            "BaggingClassifier(base_estimator=None, bootstrap=True, bootstrap_features=False,\n",
            "                  max_features=1.0, max_samples=1.0, n_estimators=170,\n",
            "                  n_jobs=None, oob_score=False, random_state=None, verbose=0,\n",
            "                  warm_start=False)\n"
          ],
          "name": "stdout"
        }
      ]
    },
    {
      "cell_type": "code",
      "metadata": {
        "colab": {
          "base_uri": "https://localhost:8080/"
        },
        "id": "mfCOa6kFngYW",
        "outputId": "afbc0935-4499-44f7-b25c-0b1896713634"
      },
      "source": [
        "bagging_grid = grid.best_estimator_\n",
        "bagging_grid.score(X,y)"
      ],
      "execution_count": null,
      "outputs": [
        {
          "output_type": "execute_result",
          "data": {
            "text/plain": [
              "0.9887387387387387"
            ]
          },
          "metadata": {
            "tags": []
          },
          "execution_count": 41
        }
      ]
    },
    {
      "cell_type": "markdown",
      "metadata": {
        "id": "SOIwf8YmnJKO"
      },
      "source": [
        "<a name=\"2.5\"></a>\n",
        "### 2.5 Boosting\n",
        "Back to [Table of Contents](#0)"
      ]
    },
    {
      "cell_type": "markdown",
      "metadata": {
        "id": "AC-s1CBhXUX-"
      },
      "source": [
        "Already done above!"
      ]
    },
    {
      "cell_type": "code",
      "metadata": {
        "colab": {
          "base_uri": "https://localhost:8080/"
        },
        "id": "EMMmp1ZQXSFI",
        "outputId": "07c5bac0-80fb-471b-9c9e-5a22fc13469a"
      },
      "source": [
        "# ProjectPro - https://www.dezyre.com/\n",
        "# 3.3 - Boosting: XGBoost\n",
        "import xgboost as xgb\n",
        "\n",
        "# parameter grid for our search\n",
        "parameters = {\n",
        "    'min_child_weight': [5, 6, 7],\n",
        "    'gamma': [0, 0.2],\n",
        "    'colsample_bytree': [0, 0.2, 0.4],\n",
        "    'max_depth': [3, 4, 5]\n",
        "}\n",
        "\n",
        "# initiating our gradient boosted tree\n",
        "xgb = xgb.XGBClassifier(objective='reg:squarederror', random_state=RANDOM_SEED)\n",
        "classifier = GridSearchCV(estimator=xgb,\n",
        "                          param_grid=parameters,\n",
        "                          cv=5)\n",
        "\n",
        "# fitting the model\n",
        "best_xgb = classifier.fit(X_train, y_train)\n",
        "\n",
        "# view the results of our cross-validated grid search \n",
        "training_accuracy_report(best_xgb)"
      ],
      "execution_count": null,
      "outputs": [
        {
          "output_type": "stream",
          "text": [
            "Best parameters: \n",
            "    {'colsample_bytree': 0.4, 'gamma': 0, 'max_depth': 5, 'min_child_weight': 6}\n",
            "    \n",
            "Best estimator:\n",
            "    XGBClassifier(base_score=0.5, booster='gbtree', colsample_bylevel=1,\n",
            "              colsample_bynode=1, colsample_bytree=0.4, gamma=0,\n",
            "              learning_rate=0.1, max_delta_step=0, max_depth=5,\n",
            "              min_child_weight=6, missing=None, n_estimators=100, n_jobs=1,\n",
            "              nthread=None, objective='reg:squarederror', random_state=42,\n",
            "              reg_alpha=0, reg_lambda=1, scale_pos_weight=1, seed=None,\n",
            "              silent=None, subsample=1, verbosity=1)\n",
            "    \n",
            "Mean cross-validated score of the best_estimator on the training set:\n",
            "    81.74%    \n",
            "\n"
          ],
          "name": "stdout"
        }
      ]
    },
    {
      "cell_type": "code",
      "metadata": {
        "colab": {
          "base_uri": "https://localhost:8080/"
        },
        "id": "Lhn1mRKtXrq5",
        "outputId": "b2ae755e-e6ff-4b04-e6b9-b31f26b6af98"
      },
      "source": [
        "# ProjectPro - https://www.dezyre.com/\n",
        "# 3.3 - Boosting: AdaBoost\n",
        "from sklearn.ensemble import AdaBoostClassifier\n",
        "\n",
        "parameters = {\n",
        "    'n_estimators': [10, 50, 100],\n",
        "    'algorithm': ['SAMME', 'SAMME.R'],\n",
        "    'learning_rate': [0.01, 0.1, 1],\n",
        "}\n",
        "\n",
        "# initiating our adaboost classifier\n",
        "ada = AdaBoostClassifier(base_estimator=None, random_state=RANDOM_SEED)\n",
        "classifier = GridSearchCV(estimator=ada,\n",
        "                          param_grid=parameters,\n",
        "                          cv=5)\n",
        "# fitting the model\n",
        "best_ada = classifier.fit(X_train, y_train)\n",
        "\n",
        "# view the results of our cross-validated grid search \n",
        "training_accuracy_report(best_ada)"
      ],
      "execution_count": null,
      "outputs": [
        {
          "output_type": "stream",
          "text": [
            "Best parameters: \n",
            "    {'algorithm': 'SAMME.R', 'learning_rate': 1, 'n_estimators': 10}\n",
            "    \n",
            "Best estimator:\n",
            "    AdaBoostClassifier(algorithm='SAMME.R', base_estimator=None, learning_rate=1,\n",
            "                   n_estimators=10, random_state=42)\n",
            "    \n",
            "Mean cross-validated score of the best_estimator on the training set:\n",
            "    81.60%    \n",
            "\n"
          ],
          "name": "stdout"
        }
      ]
    },
    {
      "cell_type": "markdown",
      "metadata": {
        "id": "OVITKISInJGN"
      },
      "source": [
        "<a name=\"2.6\"></a>\n",
        "### 2.6 Stacking\n",
        "Back to [Table of Contents](#0)"
      ]
    },
    {
      "cell_type": "code",
      "metadata": {
        "id": "1lXQHELLdCPu"
      },
      "source": [
        "from sklearn.model_selection import StratifiedKFold\n",
        "from sklearn.linear_model import LogisticRegression\n",
        "from sklearn.svm import SVC\n",
        "from sklearn.datasets import load_iris\n",
        "from sklearn.ensemble import RandomForestClassifier\n",
        "from sklearn.svm import LinearSVC\n",
        "from sklearn.linear_model import LogisticRegression\n",
        "from sklearn.preprocessing import StandardScaler\n",
        "from sklearn.pipeline import make_pipeline\n",
        "from sklearn.ensemble import StackingClassifier"
      ],
      "execution_count": null,
      "outputs": []
    },
    {
      "cell_type": "code",
      "metadata": {
        "id": "TSiuG9EN6Wgg"
      },
      "source": [
        "# ProjectPro - https://www.dezyre.com/\n",
        "# 3.4 - Stacking\n",
        "# Choosing Random Forest and Support Vector Machine as the classifiers\n",
        "estimators = [\n",
        "    ('rf', RandomForestClassifier(n_estimators=10, random_state=42)),\n",
        "    ('svr', make_pipeline(StandardScaler(),\n",
        "                          LinearSVC(random_state=42)))\n",
        "]\n",
        "\n",
        "# Implementing Stacking\n",
        "clf = StackingClassifier(\n",
        "    estimators=estimators, final_estimator=LogisticRegression()\n",
        ")\n",
        "\n",
        "# Train-Test-Split with stratifying\n",
        "from sklearn.model_selection import train_test_split\n",
        "X_train, X_test, y_train, y_test = train_test_split(\n",
        "    X, y, stratify=y, random_state=RANDOM_SEED\n",
        ")"
      ],
      "execution_count": null,
      "outputs": []
    },
    {
      "cell_type": "code",
      "metadata": {
        "colab": {
          "base_uri": "https://localhost:8080/"
        },
        "id": "9HciRmtk6WWP",
        "outputId": "95a5f6f7-1594-41c5-f8b8-661a13de6df3"
      },
      "source": [
        "# Final Fit \n",
        "resultStacking = clf.fit(X_train, y_train).score(X_test, y_test)\n",
        "print(f'Stacking Output: {resultStacking*100:,.2f}%')"
      ],
      "execution_count": null,
      "outputs": [
        {
          "output_type": "stream",
          "text": [
            "Stacking Output: 80.63%\n"
          ],
          "name": "stdout"
        }
      ]
    },
    {
      "cell_type": "markdown",
      "metadata": {
        "id": "nkQ8yUeinJDZ"
      },
      "source": [
        "<a name=\"2.7\"></a>\n",
        "### 2.7 Blending\n",
        "Back to [Table of Contents](#0)"
      ]
    },
    {
      "cell_type": "code",
      "metadata": {
        "id": "EP2nzhWwjzCO"
      },
      "source": [
        "# ProjectPro - https://www.dezyre.com/\n",
        "# 3.4 - Stacking\n",
        "x_train, x_test, y_train, y_test = train_test_split(X, y, test_size=TEST_RATIO, random_state=1)\n",
        "x_train, x_val, y_train, y_val = train_test_split(x_train, y_train, test_size=TEST_RATIO, random_state=1)"
      ],
      "execution_count": null,
      "outputs": []
    },
    {
      "cell_type": "code",
      "metadata": {
        "id": "DOA-eNsVkuJv"
      },
      "source": [
        "# Model 1 is a Support Vector Machine \n",
        "model1 = SVC(gamma='scale', probability=True, random_state=RANDOM_SEED)\n",
        "model1.fit(x_train, y_train)\n",
        "val_pred1=model1.predict(x_val)\n",
        "test_pred1=model1.predict(x_test)"
      ],
      "execution_count": null,
      "outputs": []
    },
    {
      "cell_type": "code",
      "metadata": {
        "id": "UUO8IxpVi_wJ"
      },
      "source": [
        "# Model 2 is a Random Forest Classi\n",
        "model2 = RandomForestClassifier(random_state=RANDOM_SEED)\n",
        "model2.fit(x_train,y_train)\n",
        "val_pred2=model2.predict(x_val)\n",
        "test_pred2=model2.predict(x_test)"
      ],
      "execution_count": null,
      "outputs": []
    },
    {
      "cell_type": "markdown",
      "metadata": {
        "id": "CM1ZNcWfkRFT"
      },
      "source": [
        "          Combining the meta-features and the validation set, a logistic regression model is built to make predictions on the test set."
      ]
    },
    {
      "cell_type": "code",
      "metadata": {
        "colab": {
          "base_uri": "https://localhost:8080/"
        },
        "id": "7S6oXXX5kQ4A",
        "outputId": "794a586a-26bf-4ff3-b3c3-9cf7b6aaadcf"
      },
      "source": [
        "# Blending!\n",
        "df_val=pd.concat([x_val, val_pred1,val_pred2],axis=1)\n",
        "df_test=pd.concat([x_test, test_pred1,test_pred2],axis=1)\n",
        "\n",
        "model = LogisticRegression()\n",
        "model.fit(df_val,y_val)\n",
        "resultBlending = model.score(df_test,y_test)\n",
        "print(f'Blending Output: {resultBlending*100:,.2f}%')"
      ],
      "execution_count": null,
      "outputs": [
        {
          "output_type": "stream",
          "text": [
            "Blending Output: 79.21%\n"
          ],
          "name": "stdout"
        }
      ]
    },
    {
      "cell_type": "code",
      "metadata": {
        "id": "Og1arAixkiPR"
      },
      "source": [
        "val_pred1=pd.DataFrame(val_pred1)\n",
        "test_pred1=pd.DataFrame(test_pred1)"
      ],
      "execution_count": null,
      "outputs": []
    },
    {
      "cell_type": "code",
      "metadata": {
        "id": "wl9b1c84Qaic"
      },
      "source": [
        "val_pred2=pd.DataFrame(val_pred2)\n",
        "test_pred2=pd.DataFrame(test_pred2)"
      ],
      "execution_count": null,
      "outputs": []
    },
    {
      "cell_type": "code",
      "metadata": {
        "id": "edZ_YfT0QafA"
      },
      "source": [
        "x_val = pd.DataFrame(x_val)\n",
        "val_pred1 = pd.DataFrame(val_pred1)\n",
        "val_pred2 = pd.DataFrame(val_pred2)\n",
        "x_test = pd.DataFrame(x_test)\n",
        "test_pred1 = pd.DataFrame(test_pred1)\n",
        "test_pred2 = pd.DataFrame(test_pred2)"
      ],
      "execution_count": null,
      "outputs": []
    },
    {
      "cell_type": "markdown",
      "metadata": {
        "id": "HRsWAkjXlXMa"
      },
      "source": [
        "<a name=\"ThankYou\"></a>\n",
        "### Thank you!\n",
        "Back to [Table of Contents](#0)"
      ]
    },
    {
      "cell_type": "markdown",
      "metadata": {
        "id": "7nR0bgJ0lD-G"
      },
      "source": [
        "I hope this was useful!\n",
        "\n",
        "You can reach out to me on LinkedIn here: https://www.linkedin.com/in/anishmahapatra/\n",
        "\n",
        "![image.png](data:image/png;base64,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)"
      ]
    }
  ]
}